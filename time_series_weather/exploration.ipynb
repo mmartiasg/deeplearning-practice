{
 "cells": [
  {
   "cell_type": "code",
   "execution_count": 1,
   "metadata": {
    "collapsed": true,
    "ExecuteTime": {
     "end_time": "2023-07-13T16:55:45.036615162Z",
     "start_time": "2023-07-13T16:55:43.310863405Z"
    }
   },
   "outputs": [
    {
     "name": "stderr",
     "output_type": "stream",
     "text": [
      "2023-07-13 18:55:43.311740: I tensorflow/core/platform/cpu_feature_guard.cc:193] This TensorFlow binary is optimized with oneAPI Deep Neural Network Library (oneDNN) to use the following CPU instructions in performance-critical operations:  AVX2 FMA\n",
      "To enable them in other operations, rebuild TensorFlow with the appropriate compiler flags.\n",
      "2023-07-13 18:55:43.410681: E tensorflow/stream_executor/cuda/cuda_blas.cc:2981] Unable to register cuBLAS factory: Attempting to register factory for plugin cuBLAS when one has already been registered\n",
      "2023-07-13 18:55:43.874969: W tensorflow/stream_executor/platform/default/dso_loader.cc:64] Could not load dynamic library 'libnvinfer.so.7'; dlerror: libnvinfer.so.7: cannot open shared object file: No such file or directory\n",
      "2023-07-13 18:55:43.875008: W tensorflow/stream_executor/platform/default/dso_loader.cc:64] Could not load dynamic library 'libnvinfer_plugin.so.7'; dlerror: libnvinfer_plugin.so.7: cannot open shared object file: No such file or directory\n",
      "2023-07-13 18:55:43.875014: W tensorflow/compiler/tf2tensorrt/utils/py_utils.cc:38] TF-TRT Warning: Cannot dlopen some TensorRT libraries. If you would like to use Nvidia GPU with TensorRT, please make sure the missing libraries mentioned above are installed properly.\n"
     ]
    }
   ],
   "source": [
    "from zipfile import ZipFile\n",
    "import os\n",
    "import tensorflow as tf\n",
    "import pandas as pd\n",
    "\n",
    "uri = \"https://storage.googleapis.com/tensorflow/tf-keras-datasets/jena_climate_2009_2016.csv.zip\"\n",
    "zip_path = tf.keras.utils.get_file(origin=uri, fname=\"jena_climate_2009_2016.csv.zip\")\n",
    "zip_file = ZipFile(zip_path)\n",
    "zip_file.extractall()\n",
    "csv_path = \"jena_climate_2009_2016.csv\"\n",
    "\n",
    "df = pd.read_csv(csv_path)"
   ]
  },
  {
   "cell_type": "code",
   "execution_count": 2,
   "outputs": [
    {
     "name": "stdout",
     "output_type": "stream",
     "text": [
      "<class 'pandas.core.frame.DataFrame'>\n",
      "RangeIndex: 420551 entries, 0 to 420550\n",
      "Data columns (total 15 columns):\n",
      " #   Column           Non-Null Count   Dtype  \n",
      "---  ------           --------------   -----  \n",
      " 0   Date Time        420551 non-null  object \n",
      " 1   p (mbar)         420551 non-null  float64\n",
      " 2   T (degC)         420551 non-null  float64\n",
      " 3   Tpot (K)         420551 non-null  float64\n",
      " 4   Tdew (degC)      420551 non-null  float64\n",
      " 5   rh (%)           420551 non-null  float64\n",
      " 6   VPmax (mbar)     420551 non-null  float64\n",
      " 7   VPact (mbar)     420551 non-null  float64\n",
      " 8   VPdef (mbar)     420551 non-null  float64\n",
      " 9   sh (g/kg)        420551 non-null  float64\n",
      " 10  H2OC (mmol/mol)  420551 non-null  float64\n",
      " 11  rho (g/m**3)     420551 non-null  float64\n",
      " 12  wv (m/s)         420551 non-null  float64\n",
      " 13  max. wv (m/s)    420551 non-null  float64\n",
      " 14  wd (deg)         420551 non-null  float64\n",
      "dtypes: float64(14), object(1)\n",
      "memory usage: 48.1+ MB\n"
     ]
    }
   ],
   "source": [
    "df.info()"
   ],
   "metadata": {
    "collapsed": false,
    "ExecuteTime": {
     "end_time": "2023-07-13T16:55:45.056801429Z",
     "start_time": "2023-07-13T16:55:45.046679222Z"
    }
   }
  },
  {
   "cell_type": "code",
   "execution_count": 3,
   "outputs": [
    {
     "data": {
      "text/plain": "             Date Time  p (mbar)  T (degC)  Tpot (K)  Tdew (degC)  rh (%)  \\\n0  01.01.2009 00:10:00    996.52     -8.02    265.40        -8.90    93.3   \n1  01.01.2009 00:20:00    996.57     -8.41    265.01        -9.28    93.4   \n2  01.01.2009 00:30:00    996.53     -8.51    264.91        -9.31    93.9   \n3  01.01.2009 00:40:00    996.51     -8.31    265.12        -9.07    94.2   \n4  01.01.2009 00:50:00    996.51     -8.27    265.15        -9.04    94.1   \n\n   VPmax (mbar)  VPact (mbar)  VPdef (mbar)  sh (g/kg)  H2OC (mmol/mol)  \\\n0          3.33          3.11          0.22       1.94             3.12   \n1          3.23          3.02          0.21       1.89             3.03   \n2          3.21          3.01          0.20       1.88             3.02   \n3          3.26          3.07          0.19       1.92             3.08   \n4          3.27          3.08          0.19       1.92             3.09   \n\n   rho (g/m**3)  wv (m/s)  max. wv (m/s)  wd (deg)  \n0       1307.75      1.03           1.75     152.3  \n1       1309.80      0.72           1.50     136.1  \n2       1310.24      0.19           0.63     171.6  \n3       1309.19      0.34           0.50     198.0  \n4       1309.00      0.32           0.63     214.3  ",
      "text/html": "<div>\n<style scoped>\n    .dataframe tbody tr th:only-of-type {\n        vertical-align: middle;\n    }\n\n    .dataframe tbody tr th {\n        vertical-align: top;\n    }\n\n    .dataframe thead th {\n        text-align: right;\n    }\n</style>\n<table border=\"1\" class=\"dataframe\">\n  <thead>\n    <tr style=\"text-align: right;\">\n      <th></th>\n      <th>Date Time</th>\n      <th>p (mbar)</th>\n      <th>T (degC)</th>\n      <th>Tpot (K)</th>\n      <th>Tdew (degC)</th>\n      <th>rh (%)</th>\n      <th>VPmax (mbar)</th>\n      <th>VPact (mbar)</th>\n      <th>VPdef (mbar)</th>\n      <th>sh (g/kg)</th>\n      <th>H2OC (mmol/mol)</th>\n      <th>rho (g/m**3)</th>\n      <th>wv (m/s)</th>\n      <th>max. wv (m/s)</th>\n      <th>wd (deg)</th>\n    </tr>\n  </thead>\n  <tbody>\n    <tr>\n      <th>0</th>\n      <td>01.01.2009 00:10:00</td>\n      <td>996.52</td>\n      <td>-8.02</td>\n      <td>265.40</td>\n      <td>-8.90</td>\n      <td>93.3</td>\n      <td>3.33</td>\n      <td>3.11</td>\n      <td>0.22</td>\n      <td>1.94</td>\n      <td>3.12</td>\n      <td>1307.75</td>\n      <td>1.03</td>\n      <td>1.75</td>\n      <td>152.3</td>\n    </tr>\n    <tr>\n      <th>1</th>\n      <td>01.01.2009 00:20:00</td>\n      <td>996.57</td>\n      <td>-8.41</td>\n      <td>265.01</td>\n      <td>-9.28</td>\n      <td>93.4</td>\n      <td>3.23</td>\n      <td>3.02</td>\n      <td>0.21</td>\n      <td>1.89</td>\n      <td>3.03</td>\n      <td>1309.80</td>\n      <td>0.72</td>\n      <td>1.50</td>\n      <td>136.1</td>\n    </tr>\n    <tr>\n      <th>2</th>\n      <td>01.01.2009 00:30:00</td>\n      <td>996.53</td>\n      <td>-8.51</td>\n      <td>264.91</td>\n      <td>-9.31</td>\n      <td>93.9</td>\n      <td>3.21</td>\n      <td>3.01</td>\n      <td>0.20</td>\n      <td>1.88</td>\n      <td>3.02</td>\n      <td>1310.24</td>\n      <td>0.19</td>\n      <td>0.63</td>\n      <td>171.6</td>\n    </tr>\n    <tr>\n      <th>3</th>\n      <td>01.01.2009 00:40:00</td>\n      <td>996.51</td>\n      <td>-8.31</td>\n      <td>265.12</td>\n      <td>-9.07</td>\n      <td>94.2</td>\n      <td>3.26</td>\n      <td>3.07</td>\n      <td>0.19</td>\n      <td>1.92</td>\n      <td>3.08</td>\n      <td>1309.19</td>\n      <td>0.34</td>\n      <td>0.50</td>\n      <td>198.0</td>\n    </tr>\n    <tr>\n      <th>4</th>\n      <td>01.01.2009 00:50:00</td>\n      <td>996.51</td>\n      <td>-8.27</td>\n      <td>265.15</td>\n      <td>-9.04</td>\n      <td>94.1</td>\n      <td>3.27</td>\n      <td>3.08</td>\n      <td>0.19</td>\n      <td>1.92</td>\n      <td>3.09</td>\n      <td>1309.00</td>\n      <td>0.32</td>\n      <td>0.63</td>\n      <td>214.3</td>\n    </tr>\n  </tbody>\n</table>\n</div>"
     },
     "execution_count": 3,
     "metadata": {},
     "output_type": "execute_result"
    }
   ],
   "source": [
    "df.head()"
   ],
   "metadata": {
    "collapsed": false,
    "ExecuteTime": {
     "end_time": "2023-07-13T16:55:45.100479834Z",
     "start_time": "2023-07-13T16:55:45.061157223Z"
    }
   }
  },
  {
   "cell_type": "code",
   "execution_count": 13,
   "outputs": [],
   "source": [
    "import numpy as np\n",
    "data = []\n",
    "\n",
    "with open(\"jena_climate_2009_2016.csv\") as f:\n",
    "    for index, row in enumerate(f):\n",
    "        if index>0:\n",
    "            line = [float(c) for c in row.split(sep=\",\")[1:]]\n",
    "            data.append(line)\n",
    "        else:\n",
    "            headers = row.split(sep=\",\")[1:]"
   ],
   "metadata": {
    "collapsed": false,
    "ExecuteTime": {
     "end_time": "2023-07-13T17:41:12.840254479Z",
     "start_time": "2023-07-13T17:41:11.597306212Z"
    }
   }
  },
  {
   "cell_type": "code",
   "execution_count": 14,
   "outputs": [
    {
     "data": {
      "text/plain": "[[996.52,\n  -8.02,\n  265.4,\n  -8.9,\n  93.3,\n  3.33,\n  3.11,\n  0.22,\n  1.94,\n  3.12,\n  1307.75,\n  1.03,\n  1.75,\n  152.3],\n [996.57,\n  -8.41,\n  265.01,\n  -9.28,\n  93.4,\n  3.23,\n  3.02,\n  0.21,\n  1.89,\n  3.03,\n  1309.8,\n  0.72,\n  1.5,\n  136.1],\n [996.53,\n  -8.51,\n  264.91,\n  -9.31,\n  93.9,\n  3.21,\n  3.01,\n  0.2,\n  1.88,\n  3.02,\n  1310.24,\n  0.19,\n  0.63,\n  171.6],\n [996.51,\n  -8.31,\n  265.12,\n  -9.07,\n  94.2,\n  3.26,\n  3.07,\n  0.19,\n  1.92,\n  3.08,\n  1309.19,\n  0.34,\n  0.5,\n  198.0],\n [996.51,\n  -8.27,\n  265.15,\n  -9.04,\n  94.1,\n  3.27,\n  3.08,\n  0.19,\n  1.92,\n  3.09,\n  1309.0,\n  0.32,\n  0.63,\n  214.3]]"
     },
     "execution_count": 14,
     "metadata": {},
     "output_type": "execute_result"
    }
   ],
   "source": [
    "data[:5]"
   ],
   "metadata": {
    "collapsed": false,
    "ExecuteTime": {
     "end_time": "2023-07-13T17:41:14.228720419Z",
     "start_time": "2023-07-13T17:41:14.224811383Z"
    }
   }
  },
  {
   "cell_type": "code",
   "execution_count": null,
   "outputs": [],
   "source": [],
   "metadata": {
    "collapsed": false
   }
  },
  {
   "cell_type": "code",
   "execution_count": 15,
   "outputs": [],
   "source": [
    "dataset = np.array(data, dtype=\"float16\")"
   ],
   "metadata": {
    "collapsed": false,
    "ExecuteTime": {
     "end_time": "2023-07-13T17:41:43.297321043Z",
     "start_time": "2023-07-13T17:41:43.294988887Z"
    }
   }
  },
  {
   "cell_type": "code",
   "execution_count": 17,
   "outputs": [
    {
     "data": {
      "text/plain": "array([[ 9.965e+02, -8.023e+00,  2.655e+02, -8.898e+00,  9.331e+01,\n         3.330e+00,  3.109e+00,  2.200e-01,  1.940e+00,  3.119e+00,\n         1.308e+03,  1.030e+00,  1.750e+00,  1.522e+02],\n       [ 9.965e+02, -8.406e+00,  2.650e+02, -9.281e+00,  9.338e+01,\n         3.230e+00,  3.020e+00,  2.100e-01,  1.890e+00,  3.029e+00,\n         1.310e+03,  7.202e-01,  1.500e+00,  1.361e+02]], dtype=float16)"
     },
     "execution_count": 17,
     "metadata": {},
     "output_type": "execute_result"
    }
   ],
   "source": [
    "dataset[:2]"
   ],
   "metadata": {
    "collapsed": false,
    "ExecuteTime": {
     "end_time": "2023-07-13T17:53:16.065572404Z",
     "start_time": "2023-07-13T17:53:16.061096818Z"
    }
   }
  },
  {
   "cell_type": "code",
   "execution_count": 26,
   "outputs": [
    {
     "data": {
      "text/plain": "array([-8.02, -8.41, -8.51, -8.31, -8.27], dtype=float16)"
     },
     "execution_count": 26,
     "metadata": {},
     "output_type": "execute_result"
    }
   ],
   "source": [
    "dataset[:, 1][:5]"
   ],
   "metadata": {
    "collapsed": false,
    "ExecuteTime": {
     "end_time": "2023-07-13T18:52:14.408194604Z",
     "start_time": "2023-07-13T18:52:14.359374564Z"
    }
   }
  },
  {
   "cell_type": "code",
   "execution_count": 27,
   "outputs": [
    {
     "name": "stdout",
     "output_type": "stream",
     "text": [
      "[-8.02 -8.41 -8.51 -8.31 -8.27]\n"
     ]
    }
   ],
   "source": [
    "with open(\"jena_climate_2009_2016.csv\") as f:\n",
    "    for index, row in enumerate(f):\n",
    "        if index > 0:\n",
    "            line = [float(c) for c in row.split(sep=\",\")[1:]]\n",
    "            data.append(line)\n",
    "        else:\n",
    "            headers = row.split(sep=\",\")[1:]\n",
    "\n",
    "dataset = np.array(data, dtype=\"float16\")\n",
    "\n",
    "# take only temperature\n",
    "dataset = dataset[:, 1]\n",
    "\n",
    "print(dataset[:5])"
   ],
   "metadata": {
    "collapsed": false,
    "ExecuteTime": {
     "end_time": "2023-07-13T18:53:24.658163263Z",
     "start_time": "2023-07-13T18:53:23.029442786Z"
    }
   }
  },
  {
   "cell_type": "code",
   "execution_count": null,
   "outputs": [],
   "source": [],
   "metadata": {
    "collapsed": false
   }
  }
 ],
 "metadata": {
  "kernelspec": {
   "display_name": "Python 3",
   "language": "python",
   "name": "python3"
  },
  "language_info": {
   "codemirror_mode": {
    "name": "ipython",
    "version": 2
   },
   "file_extension": ".py",
   "mimetype": "text/x-python",
   "name": "python",
   "nbconvert_exporter": "python",
   "pygments_lexer": "ipython2",
   "version": "2.7.6"
  }
 },
 "nbformat": 4,
 "nbformat_minor": 0
}
