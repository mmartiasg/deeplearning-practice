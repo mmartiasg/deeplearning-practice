{
 "cells": [
  {
   "cell_type": "code",
   "execution_count": 1,
   "metadata": {
    "collapsed": true,
    "ExecuteTime": {
     "end_time": "2023-07-24T07:00:17.348929531Z",
     "start_time": "2023-07-24T07:00:15.365620358Z"
    }
   },
   "outputs": [
    {
     "name": "stderr",
     "output_type": "stream",
     "text": [
      "2023-07-24 09:00:15.743508: I tensorflow/core/platform/cpu_feature_guard.cc:193] This TensorFlow binary is optimized with oneAPI Deep Neural Network Library (oneDNN) to use the following CPU instructions in performance-critical operations:  AVX2 FMA\n",
      "To enable them in other operations, rebuild TensorFlow with the appropriate compiler flags.\n",
      "2023-07-24 09:00:15.924974: E tensorflow/stream_executor/cuda/cuda_blas.cc:2981] Unable to register cuBLAS factory: Attempting to register factory for plugin cuBLAS when one has already been registered\n",
      "2023-07-24 09:00:16.517459: W tensorflow/stream_executor/platform/default/dso_loader.cc:64] Could not load dynamic library 'libnvinfer.so.7'; dlerror: libnvinfer.so.7: cannot open shared object file: No such file or directory\n",
      "2023-07-24 09:00:16.517513: W tensorflow/stream_executor/platform/default/dso_loader.cc:64] Could not load dynamic library 'libnvinfer_plugin.so.7'; dlerror: libnvinfer_plugin.so.7: cannot open shared object file: No such file or directory\n",
      "2023-07-24 09:00:16.517520: W tensorflow/compiler/tf2tensorrt/utils/py_utils.cc:38] TF-TRT Warning: Cannot dlopen some TensorRT libraries. If you would like to use Nvidia GPU with TensorRT, please make sure the missing libraries mentioned above are installed properly.\n"
     ]
    }
   ],
   "source": [
    "import pandas as pd\n",
    "import numpy as np\n",
    "import math\n",
    "import tensorflow as tf"
   ]
  },
  {
   "cell_type": "code",
   "execution_count": 2,
   "outputs": [],
   "source": [
    "users_rating_df = pd.read_csv(\"ml-25m/ratings.csv\")\n",
    "movies_df = pd.read_csv(\"ml-25m/movies.csv\")"
   ],
   "metadata": {
    "collapsed": false,
    "ExecuteTime": {
     "end_time": "2023-07-24T07:00:21.982563692Z",
     "start_time": "2023-07-24T07:00:17.352203264Z"
    }
   }
  },
  {
   "cell_type": "code",
   "execution_count": 3,
   "outputs": [
    {
     "data": {
      "text/plain": "   userId  movieId  rating   timestamp\n0       1      296     5.0  1147880044\n1       1      306     3.5  1147868817\n2       1      307     5.0  1147868828\n3       1      665     5.0  1147878820\n4       1      899     3.5  1147868510",
      "text/html": "<div>\n<style scoped>\n    .dataframe tbody tr th:only-of-type {\n        vertical-align: middle;\n    }\n\n    .dataframe tbody tr th {\n        vertical-align: top;\n    }\n\n    .dataframe thead th {\n        text-align: right;\n    }\n</style>\n<table border=\"1\" class=\"dataframe\">\n  <thead>\n    <tr style=\"text-align: right;\">\n      <th></th>\n      <th>userId</th>\n      <th>movieId</th>\n      <th>rating</th>\n      <th>timestamp</th>\n    </tr>\n  </thead>\n  <tbody>\n    <tr>\n      <th>0</th>\n      <td>1</td>\n      <td>296</td>\n      <td>5.0</td>\n      <td>1147880044</td>\n    </tr>\n    <tr>\n      <th>1</th>\n      <td>1</td>\n      <td>306</td>\n      <td>3.5</td>\n      <td>1147868817</td>\n    </tr>\n    <tr>\n      <th>2</th>\n      <td>1</td>\n      <td>307</td>\n      <td>5.0</td>\n      <td>1147868828</td>\n    </tr>\n    <tr>\n      <th>3</th>\n      <td>1</td>\n      <td>665</td>\n      <td>5.0</td>\n      <td>1147878820</td>\n    </tr>\n    <tr>\n      <th>4</th>\n      <td>1</td>\n      <td>899</td>\n      <td>3.5</td>\n      <td>1147868510</td>\n    </tr>\n  </tbody>\n</table>\n</div>"
     },
     "execution_count": 3,
     "metadata": {},
     "output_type": "execute_result"
    }
   ],
   "source": [
    "users_rating_df.head()"
   ],
   "metadata": {
    "collapsed": false,
    "ExecuteTime": {
     "end_time": "2023-07-24T07:00:21.997488873Z",
     "start_time": "2023-07-24T07:00:21.987344220Z"
    }
   }
  },
  {
   "cell_type": "code",
   "execution_count": 4,
   "outputs": [
    {
     "data": {
      "text/plain": "   movieId                               title  \\\n0        1                    Toy Story (1995)   \n1        2                      Jumanji (1995)   \n2        3             Grumpier Old Men (1995)   \n3        4            Waiting to Exhale (1995)   \n4        5  Father of the Bride Part II (1995)   \n\n                                        genres  \n0  Adventure|Animation|Children|Comedy|Fantasy  \n1                   Adventure|Children|Fantasy  \n2                               Comedy|Romance  \n3                         Comedy|Drama|Romance  \n4                                       Comedy  ",
      "text/html": "<div>\n<style scoped>\n    .dataframe tbody tr th:only-of-type {\n        vertical-align: middle;\n    }\n\n    .dataframe tbody tr th {\n        vertical-align: top;\n    }\n\n    .dataframe thead th {\n        text-align: right;\n    }\n</style>\n<table border=\"1\" class=\"dataframe\">\n  <thead>\n    <tr style=\"text-align: right;\">\n      <th></th>\n      <th>movieId</th>\n      <th>title</th>\n      <th>genres</th>\n    </tr>\n  </thead>\n  <tbody>\n    <tr>\n      <th>0</th>\n      <td>1</td>\n      <td>Toy Story (1995)</td>\n      <td>Adventure|Animation|Children|Comedy|Fantasy</td>\n    </tr>\n    <tr>\n      <th>1</th>\n      <td>2</td>\n      <td>Jumanji (1995)</td>\n      <td>Adventure|Children|Fantasy</td>\n    </tr>\n    <tr>\n      <th>2</th>\n      <td>3</td>\n      <td>Grumpier Old Men (1995)</td>\n      <td>Comedy|Romance</td>\n    </tr>\n    <tr>\n      <th>3</th>\n      <td>4</td>\n      <td>Waiting to Exhale (1995)</td>\n      <td>Comedy|Drama|Romance</td>\n    </tr>\n    <tr>\n      <th>4</th>\n      <td>5</td>\n      <td>Father of the Bride Part II (1995)</td>\n      <td>Comedy</td>\n    </tr>\n  </tbody>\n</table>\n</div>"
     },
     "execution_count": 4,
     "metadata": {},
     "output_type": "execute_result"
    }
   ],
   "source": [
    "movies_df.head()"
   ],
   "metadata": {
    "collapsed": false,
    "ExecuteTime": {
     "end_time": "2023-07-24T07:00:22.000739992Z",
     "start_time": "2023-07-24T07:00:21.997796080Z"
    }
   }
  },
  {
   "cell_type": "code",
   "execution_count": 5,
   "outputs": [],
   "source": [
    "user_rating_movie_details_df = pd.merge(users_rating_df, movies_df, how=\"left\", on=\"movieId\")"
   ],
   "metadata": {
    "collapsed": false,
    "ExecuteTime": {
     "end_time": "2023-07-24T07:00:24.189338709Z",
     "start_time": "2023-07-24T07:00:22.004809997Z"
    }
   }
  },
  {
   "cell_type": "code",
   "execution_count": 6,
   "outputs": [
    {
     "data": {
      "text/plain": "   userId  movieId  rating   timestamp  \\\n0       1      296     5.0  1147880044   \n1       1      306     3.5  1147868817   \n2       1      307     5.0  1147868828   \n3       1      665     5.0  1147878820   \n4       1      899     3.5  1147868510   \n\n                                              title  \\\n0                               Pulp Fiction (1994)   \n1  Three Colors: Red (Trois couleurs: Rouge) (1994)   \n2  Three Colors: Blue (Trois couleurs: Bleu) (1993)   \n3                                Underground (1995)   \n4                        Singin' in the Rain (1952)   \n\n                        genres  \n0  Comedy|Crime|Drama|Thriller  \n1                        Drama  \n2                        Drama  \n3             Comedy|Drama|War  \n4       Comedy|Musical|Romance  ",
      "text/html": "<div>\n<style scoped>\n    .dataframe tbody tr th:only-of-type {\n        vertical-align: middle;\n    }\n\n    .dataframe tbody tr th {\n        vertical-align: top;\n    }\n\n    .dataframe thead th {\n        text-align: right;\n    }\n</style>\n<table border=\"1\" class=\"dataframe\">\n  <thead>\n    <tr style=\"text-align: right;\">\n      <th></th>\n      <th>userId</th>\n      <th>movieId</th>\n      <th>rating</th>\n      <th>timestamp</th>\n      <th>title</th>\n      <th>genres</th>\n    </tr>\n  </thead>\n  <tbody>\n    <tr>\n      <th>0</th>\n      <td>1</td>\n      <td>296</td>\n      <td>5.0</td>\n      <td>1147880044</td>\n      <td>Pulp Fiction (1994)</td>\n      <td>Comedy|Crime|Drama|Thriller</td>\n    </tr>\n    <tr>\n      <th>1</th>\n      <td>1</td>\n      <td>306</td>\n      <td>3.5</td>\n      <td>1147868817</td>\n      <td>Three Colors: Red (Trois couleurs: Rouge) (1994)</td>\n      <td>Drama</td>\n    </tr>\n    <tr>\n      <th>2</th>\n      <td>1</td>\n      <td>307</td>\n      <td>5.0</td>\n      <td>1147868828</td>\n      <td>Three Colors: Blue (Trois couleurs: Bleu) (1993)</td>\n      <td>Drama</td>\n    </tr>\n    <tr>\n      <th>3</th>\n      <td>1</td>\n      <td>665</td>\n      <td>5.0</td>\n      <td>1147878820</td>\n      <td>Underground (1995)</td>\n      <td>Comedy|Drama|War</td>\n    </tr>\n    <tr>\n      <th>4</th>\n      <td>1</td>\n      <td>899</td>\n      <td>3.5</td>\n      <td>1147868510</td>\n      <td>Singin' in the Rain (1952)</td>\n      <td>Comedy|Musical|Romance</td>\n    </tr>\n  </tbody>\n</table>\n</div>"
     },
     "execution_count": 6,
     "metadata": {},
     "output_type": "execute_result"
    }
   ],
   "source": [
    "user_rating_movie_details_df.head()"
   ],
   "metadata": {
    "collapsed": false,
    "ExecuteTime": {
     "end_time": "2023-07-24T07:00:24.197799292Z",
     "start_time": "2023-07-24T07:00:24.193840206Z"
    }
   }
  },
  {
   "cell_type": "markdown",
   "source": [
    "Each user is garatee to have at least 20 reviews,\n",
    "I have the time stamp thus I have a way to make a sequence."
   ],
   "metadata": {
    "collapsed": false
   }
  },
  {
   "cell_type": "code",
   "execution_count": 7,
   "outputs": [
    {
     "data": {
      "text/plain": "    userId  movieId  rating   timestamp  \\\n36       1     5952     4.0  1147868053   \n13       1     2012     2.5  1147868068   \n12       1     2011     2.5  1147868079   \n11       1     1653     4.0  1147868097   \n9        1     1250     4.0  1147868414   \n..     ...      ...     ...         ...   \n65       1    27193     3.0  1147879774   \n32       1     5684     2.0  1147879797   \n45       1     7318     2.0  1147879850   \n0        1      296     5.0  1147880044   \n48       1     7361     5.0  1147880055   \n\n                                            title  \\\n36  Lord of the Rings: The Two Towers, The (2002)   \n13             Back to the Future Part III (1990)   \n12              Back to the Future Part II (1989)   \n11                                 Gattaca (1997)   \n9            Bridge on the River Kwai, The (1957)   \n..                                            ...   \n65                                  Taxi 2 (2000)   \n32                              Naqoyqatsi (2002)   \n45              Passion of the Christ, The (2004)   \n0                             Pulp Fiction (1994)   \n48   Eternal Sunshine of the Spotless Mind (2004)   \n\n                             genres  \n36                Adventure|Fantasy  \n13  Adventure|Comedy|Sci-Fi|Western  \n12          Adventure|Comedy|Sci-Fi  \n11            Drama|Sci-Fi|Thriller  \n9               Adventure|Drama|War  \n..                              ...  \n65                    Action|Comedy  \n32                      Documentary  \n45                            Drama  \n0       Comedy|Crime|Drama|Thriller  \n48             Drama|Romance|Sci-Fi  \n\n[70 rows x 6 columns]",
      "text/html": "<div>\n<style scoped>\n    .dataframe tbody tr th:only-of-type {\n        vertical-align: middle;\n    }\n\n    .dataframe tbody tr th {\n        vertical-align: top;\n    }\n\n    .dataframe thead th {\n        text-align: right;\n    }\n</style>\n<table border=\"1\" class=\"dataframe\">\n  <thead>\n    <tr style=\"text-align: right;\">\n      <th></th>\n      <th>userId</th>\n      <th>movieId</th>\n      <th>rating</th>\n      <th>timestamp</th>\n      <th>title</th>\n      <th>genres</th>\n    </tr>\n  </thead>\n  <tbody>\n    <tr>\n      <th>36</th>\n      <td>1</td>\n      <td>5952</td>\n      <td>4.0</td>\n      <td>1147868053</td>\n      <td>Lord of the Rings: The Two Towers, The (2002)</td>\n      <td>Adventure|Fantasy</td>\n    </tr>\n    <tr>\n      <th>13</th>\n      <td>1</td>\n      <td>2012</td>\n      <td>2.5</td>\n      <td>1147868068</td>\n      <td>Back to the Future Part III (1990)</td>\n      <td>Adventure|Comedy|Sci-Fi|Western</td>\n    </tr>\n    <tr>\n      <th>12</th>\n      <td>1</td>\n      <td>2011</td>\n      <td>2.5</td>\n      <td>1147868079</td>\n      <td>Back to the Future Part II (1989)</td>\n      <td>Adventure|Comedy|Sci-Fi</td>\n    </tr>\n    <tr>\n      <th>11</th>\n      <td>1</td>\n      <td>1653</td>\n      <td>4.0</td>\n      <td>1147868097</td>\n      <td>Gattaca (1997)</td>\n      <td>Drama|Sci-Fi|Thriller</td>\n    </tr>\n    <tr>\n      <th>9</th>\n      <td>1</td>\n      <td>1250</td>\n      <td>4.0</td>\n      <td>1147868414</td>\n      <td>Bridge on the River Kwai, The (1957)</td>\n      <td>Adventure|Drama|War</td>\n    </tr>\n    <tr>\n      <th>...</th>\n      <td>...</td>\n      <td>...</td>\n      <td>...</td>\n      <td>...</td>\n      <td>...</td>\n      <td>...</td>\n    </tr>\n    <tr>\n      <th>65</th>\n      <td>1</td>\n      <td>27193</td>\n      <td>3.0</td>\n      <td>1147879774</td>\n      <td>Taxi 2 (2000)</td>\n      <td>Action|Comedy</td>\n    </tr>\n    <tr>\n      <th>32</th>\n      <td>1</td>\n      <td>5684</td>\n      <td>2.0</td>\n      <td>1147879797</td>\n      <td>Naqoyqatsi (2002)</td>\n      <td>Documentary</td>\n    </tr>\n    <tr>\n      <th>45</th>\n      <td>1</td>\n      <td>7318</td>\n      <td>2.0</td>\n      <td>1147879850</td>\n      <td>Passion of the Christ, The (2004)</td>\n      <td>Drama</td>\n    </tr>\n    <tr>\n      <th>0</th>\n      <td>1</td>\n      <td>296</td>\n      <td>5.0</td>\n      <td>1147880044</td>\n      <td>Pulp Fiction (1994)</td>\n      <td>Comedy|Crime|Drama|Thriller</td>\n    </tr>\n    <tr>\n      <th>48</th>\n      <td>1</td>\n      <td>7361</td>\n      <td>5.0</td>\n      <td>1147880055</td>\n      <td>Eternal Sunshine of the Spotless Mind (2004)</td>\n      <td>Drama|Romance|Sci-Fi</td>\n    </tr>\n  </tbody>\n</table>\n<p>70 rows × 6 columns</p>\n</div>"
     },
     "execution_count": 7,
     "metadata": {},
     "output_type": "execute_result"
    }
   ],
   "source": [
    "# study for user 1\n",
    "\n",
    "user_rating_movie_details_df.query(\"userId==1\").sort_values(by=\"timestamp\", ascending=True)"
   ],
   "metadata": {
    "collapsed": false,
    "ExecuteTime": {
     "end_time": "2023-07-24T07:00:24.331689922Z",
     "start_time": "2023-07-24T07:00:24.197393878Z"
    }
   }
  },
  {
   "cell_type": "code",
   "execution_count": 8,
   "outputs": [
    {
     "data": {
      "text/plain": "          userId  movieId  rating   timestamp  \\\n36             1     5952     4.0  1147868053   \n212            2     5952     5.0  1141415528   \n453            3     5952     4.0  1439472616   \n972            4     5952     4.5  1574193472   \n2636          13     5952     4.5  1237970978   \n...          ...      ...     ...         ...   \n24998468  162532     5952     5.0  1418000735   \n24998762  162533     5952     5.0  1281406073   \n24999074  162534     5952     3.0  1527428422   \n24999701  162538     5952     4.0  1438781110   \n25000065  162541     5952     5.0  1240952617   \n\n                                                  title             genres  \n36        Lord of the Rings: The Two Towers, The (2002)  Adventure|Fantasy  \n212       Lord of the Rings: The Two Towers, The (2002)  Adventure|Fantasy  \n453       Lord of the Rings: The Two Towers, The (2002)  Adventure|Fantasy  \n972       Lord of the Rings: The Two Towers, The (2002)  Adventure|Fantasy  \n2636      Lord of the Rings: The Two Towers, The (2002)  Adventure|Fantasy  \n...                                                 ...                ...  \n24998468  Lord of the Rings: The Two Towers, The (2002)  Adventure|Fantasy  \n24998762  Lord of the Rings: The Two Towers, The (2002)  Adventure|Fantasy  \n24999074  Lord of the Rings: The Two Towers, The (2002)  Adventure|Fantasy  \n24999701  Lord of the Rings: The Two Towers, The (2002)  Adventure|Fantasy  \n25000065  Lord of the Rings: The Two Towers, The (2002)  Adventure|Fantasy  \n\n[51138 rows x 6 columns]",
      "text/html": "<div>\n<style scoped>\n    .dataframe tbody tr th:only-of-type {\n        vertical-align: middle;\n    }\n\n    .dataframe tbody tr th {\n        vertical-align: top;\n    }\n\n    .dataframe thead th {\n        text-align: right;\n    }\n</style>\n<table border=\"1\" class=\"dataframe\">\n  <thead>\n    <tr style=\"text-align: right;\">\n      <th></th>\n      <th>userId</th>\n      <th>movieId</th>\n      <th>rating</th>\n      <th>timestamp</th>\n      <th>title</th>\n      <th>genres</th>\n    </tr>\n  </thead>\n  <tbody>\n    <tr>\n      <th>36</th>\n      <td>1</td>\n      <td>5952</td>\n      <td>4.0</td>\n      <td>1147868053</td>\n      <td>Lord of the Rings: The Two Towers, The (2002)</td>\n      <td>Adventure|Fantasy</td>\n    </tr>\n    <tr>\n      <th>212</th>\n      <td>2</td>\n      <td>5952</td>\n      <td>5.0</td>\n      <td>1141415528</td>\n      <td>Lord of the Rings: The Two Towers, The (2002)</td>\n      <td>Adventure|Fantasy</td>\n    </tr>\n    <tr>\n      <th>453</th>\n      <td>3</td>\n      <td>5952</td>\n      <td>4.0</td>\n      <td>1439472616</td>\n      <td>Lord of the Rings: The Two Towers, The (2002)</td>\n      <td>Adventure|Fantasy</td>\n    </tr>\n    <tr>\n      <th>972</th>\n      <td>4</td>\n      <td>5952</td>\n      <td>4.5</td>\n      <td>1574193472</td>\n      <td>Lord of the Rings: The Two Towers, The (2002)</td>\n      <td>Adventure|Fantasy</td>\n    </tr>\n    <tr>\n      <th>2636</th>\n      <td>13</td>\n      <td>5952</td>\n      <td>4.5</td>\n      <td>1237970978</td>\n      <td>Lord of the Rings: The Two Towers, The (2002)</td>\n      <td>Adventure|Fantasy</td>\n    </tr>\n    <tr>\n      <th>...</th>\n      <td>...</td>\n      <td>...</td>\n      <td>...</td>\n      <td>...</td>\n      <td>...</td>\n      <td>...</td>\n    </tr>\n    <tr>\n      <th>24998468</th>\n      <td>162532</td>\n      <td>5952</td>\n      <td>5.0</td>\n      <td>1418000735</td>\n      <td>Lord of the Rings: The Two Towers, The (2002)</td>\n      <td>Adventure|Fantasy</td>\n    </tr>\n    <tr>\n      <th>24998762</th>\n      <td>162533</td>\n      <td>5952</td>\n      <td>5.0</td>\n      <td>1281406073</td>\n      <td>Lord of the Rings: The Two Towers, The (2002)</td>\n      <td>Adventure|Fantasy</td>\n    </tr>\n    <tr>\n      <th>24999074</th>\n      <td>162534</td>\n      <td>5952</td>\n      <td>3.0</td>\n      <td>1527428422</td>\n      <td>Lord of the Rings: The Two Towers, The (2002)</td>\n      <td>Adventure|Fantasy</td>\n    </tr>\n    <tr>\n      <th>24999701</th>\n      <td>162538</td>\n      <td>5952</td>\n      <td>4.0</td>\n      <td>1438781110</td>\n      <td>Lord of the Rings: The Two Towers, The (2002)</td>\n      <td>Adventure|Fantasy</td>\n    </tr>\n    <tr>\n      <th>25000065</th>\n      <td>162541</td>\n      <td>5952</td>\n      <td>5.0</td>\n      <td>1240952617</td>\n      <td>Lord of the Rings: The Two Towers, The (2002)</td>\n      <td>Adventure|Fantasy</td>\n    </tr>\n  </tbody>\n</table>\n<p>51138 rows × 6 columns</p>\n</div>"
     },
     "execution_count": 8,
     "metadata": {},
     "output_type": "execute_result"
    }
   ],
   "source": [
    "# by movie\n",
    "\n",
    "user_rating_movie_details_df.query(\"movieId==5952\").sort_values(by=[\"userId\", \"timestamp\"], ascending=True)"
   ],
   "metadata": {
    "collapsed": false,
    "ExecuteTime": {
     "end_time": "2023-07-24T07:00:24.488233101Z",
     "start_time": "2023-07-24T07:00:24.310512996Z"
    }
   }
  },
  {
   "cell_type": "code",
   "execution_count": 9,
   "outputs": [
    {
     "data": {
      "text/plain": "        movieId\nuserId         \n72315     32202\n80974      9178\n137293     8913\n33844      7919\n20055      7488\n...         ...\n12094        20\n119539       20\n156759       20\n12084        20\n36207        20\n\n[162541 rows x 1 columns]",
      "text/html": "<div>\n<style scoped>\n    .dataframe tbody tr th:only-of-type {\n        vertical-align: middle;\n    }\n\n    .dataframe tbody tr th {\n        vertical-align: top;\n    }\n\n    .dataframe thead th {\n        text-align: right;\n    }\n</style>\n<table border=\"1\" class=\"dataframe\">\n  <thead>\n    <tr style=\"text-align: right;\">\n      <th></th>\n      <th>movieId</th>\n    </tr>\n    <tr>\n      <th>userId</th>\n      <th></th>\n    </tr>\n  </thead>\n  <tbody>\n    <tr>\n      <th>72315</th>\n      <td>32202</td>\n    </tr>\n    <tr>\n      <th>80974</th>\n      <td>9178</td>\n    </tr>\n    <tr>\n      <th>137293</th>\n      <td>8913</td>\n    </tr>\n    <tr>\n      <th>33844</th>\n      <td>7919</td>\n    </tr>\n    <tr>\n      <th>20055</th>\n      <td>7488</td>\n    </tr>\n    <tr>\n      <th>...</th>\n      <td>...</td>\n    </tr>\n    <tr>\n      <th>12094</th>\n      <td>20</td>\n    </tr>\n    <tr>\n      <th>119539</th>\n      <td>20</td>\n    </tr>\n    <tr>\n      <th>156759</th>\n      <td>20</td>\n    </tr>\n    <tr>\n      <th>12084</th>\n      <td>20</td>\n    </tr>\n    <tr>\n      <th>36207</th>\n      <td>20</td>\n    </tr>\n  </tbody>\n</table>\n<p>162541 rows × 1 columns</p>\n</div>"
     },
     "execution_count": 9,
     "metadata": {},
     "output_type": "execute_result"
    }
   ],
   "source": [
    "user_rating_movie_details_df[[\"userId\", \"movieId\"]].groupby(by=\"userId\").count().sort_values(by=\"movieId\", ascending=False)"
   ],
   "metadata": {
    "collapsed": false,
    "ExecuteTime": {
     "end_time": "2023-07-24T07:00:24.696047757Z",
     "start_time": "2023-07-24T07:00:24.476058107Z"
    }
   }
  },
  {
   "cell_type": "markdown",
   "source": [
    "# Build a dataset\n",
    "I need to build a rating matrix Y with a row per movie and column per each user's rating.\n",
    "\n",
    "And another R matrix that will indicate if the user has given a rating to that moview(1) or not(0)\n",
    "\n",
    "For that to avoid having a super big matrix I will chose the first 10000 movies first"
   ],
   "metadata": {
    "collapsed": false
   }
  },
  {
   "cell_type": "code",
   "execution_count": 288,
   "outputs": [
    {
     "name": "stderr",
     "output_type": "stream",
     "text": [
      "/tmp/ipykernel_3735/2651256587.py:11: UserWarning: Boolean Series key will be reindexed to match DataFrame index.\n",
      "  rating_from_sampled_movies_df = rating_from_sampled_movies_df[users_rating_df.userId.isin(sampled_users_id)]\n"
     ]
    }
   ],
   "source": [
    "# get all movies ids\n",
    "all_movies_ids = users_rating_df.movieId.unique()\n",
    "\n",
    "# choose the first 5000\n",
    "sampled_movies_ids = all_movies_ids[:5000]\n",
    "# keep all user's rating for the fist 5000 movies\n",
    "rating_from_sampled_movies_df = users_rating_df[users_rating_df.movieId.isin(sampled_movies_ids)]\n",
    "\n",
    "#First 500 users\n",
    "sampled_users_id = rating_from_sampled_movies_df.userId.unique()[:500]\n",
    "rating_from_sampled_movies_df = rating_from_sampled_movies_df[users_rating_df.userId.isin(sampled_users_id)]"
   ],
   "metadata": {
    "collapsed": false,
    "ExecuteTime": {
     "end_time": "2023-07-24T11:35:21.358237354Z",
     "start_time": "2023-07-24T11:35:20.185438446Z"
    }
   }
  },
  {
   "cell_type": "code",
   "execution_count": 11,
   "outputs": [],
   "source": [
    "Nu = sampled_users_id.shape[0]\n",
    "Nm = sampled_movies_ids.shape[0]"
   ],
   "metadata": {
    "collapsed": false,
    "ExecuteTime": {
     "end_time": "2023-07-24T07:00:25.632646476Z",
     "start_time": "2023-07-24T07:00:25.630567514Z"
    }
   }
  },
  {
   "cell_type": "code",
   "execution_count": 12,
   "outputs": [
    {
     "name": "stdout",
     "output_type": "stream",
     "text": [
      "Users: 500 - Movies:5000\n"
     ]
    }
   ],
   "source": [
    "print(f\"Users: {Nu} - Movies:{Nm}\")"
   ],
   "metadata": {
    "collapsed": false,
    "ExecuteTime": {
     "end_time": "2023-07-24T07:00:25.638194633Z",
     "start_time": "2023-07-24T07:00:25.633197044Z"
    }
   }
  },
  {
   "cell_type": "code",
   "execution_count": 13,
   "outputs": [],
   "source": [
    "# All users rating per movie.\n",
    "Y = np.zeros((Nm, Nu), dtype=\"float16\")\n",
    "\n",
    "# Mask 1 if user rated that movie 0 if not.\n",
    "R = np.zeros((Nm, Nu))"
   ],
   "metadata": {
    "collapsed": false,
    "ExecuteTime": {
     "end_time": "2023-07-24T07:00:25.642069443Z",
     "start_time": "2023-07-24T07:00:25.638497624Z"
    }
   }
  },
  {
   "cell_type": "markdown",
   "source": [
    "#Build first the matrices\n",
    "\n",
    "2 dictionaries\n",
    "\n",
    "The first one will have a all the users and the second one the movies\n",
    "\n",
    "Those dictionaries will help me to kee track of which movie is the one that is in each row of the matrix and which use is the one in each column"
   ],
   "metadata": {
    "collapsed": false
   }
  },
  {
   "cell_type": "code",
   "execution_count": 14,
   "outputs": [],
   "source": [
    "movies_index_dict = dict(zip(rating_from_sampled_movies_df.movieId.unique(), range(rating_from_sampled_movies_df.movieId.unique().shape[0])))\n",
    "users_index_dict = dict(zip(rating_from_sampled_movies_df.userId.unique(), range(rating_from_sampled_movies_df.userId.unique().shape[0])))"
   ],
   "metadata": {
    "collapsed": false,
    "ExecuteTime": {
     "end_time": "2023-07-24T07:00:25.695343493Z",
     "start_time": "2023-07-24T07:00:25.653108442Z"
    }
   }
  },
  {
   "cell_type": "markdown",
   "source": [
    "Test with a user that haven seen the movie and another that did see the movie"
   ],
   "metadata": {
    "collapsed": false
   }
  },
  {
   "cell_type": "code",
   "execution_count": 15,
   "outputs": [],
   "source": [
    "movie_id = 300\n",
    "user_id = 0\n",
    "rating = rating_from_sampled_movies_df.query(f\"movieId=={movie_id} and userId=={user_id}\").rating.to_numpy()\n",
    "assert rating.shape[0] == 0\n",
    "\n",
    "user_have_seen_movie = rating_from_sampled_movies_df.query(f\"movieId=={movie_id}\").userId.unique()[0]\n",
    "rating = rating_from_sampled_movies_df.query(f\"movieId=={movie_id} and userId=={user_have_seen_movie}\").rating.to_numpy()\n",
    "assert rating.shape[0] > 0"
   ],
   "metadata": {
    "collapsed": false,
    "ExecuteTime": {
     "end_time": "2023-07-24T07:00:25.695660772Z",
     "start_time": "2023-07-24T07:00:25.689574892Z"
    }
   }
  },
  {
   "cell_type": "code",
   "execution_count": 16,
   "outputs": [],
   "source": [
    "from tqdm import tqdm"
   ],
   "metadata": {
    "collapsed": false,
    "ExecuteTime": {
     "end_time": "2023-07-24T07:00:25.695844637Z",
     "start_time": "2023-07-24T07:00:25.689869720Z"
    }
   }
  },
  {
   "cell_type": "code",
   "execution_count": 17,
   "outputs": [
    {
     "name": "stderr",
     "output_type": "stream",
     "text": [
      "100%|██████████| 5000/5000 [01:02<00:00, 80.07it/s] \n"
     ]
    }
   ],
   "source": [
    "for movie_id in tqdm(sampled_movies_ids, total=sampled_movies_ids.shape[0]):\n",
    "    for user_id in rating_from_sampled_movies_df.query(f\"movieId=={movie_id}\").userId.to_numpy():\n",
    "        rating = rating_from_sampled_movies_df.query(f\"movieId=={movie_id} and userId=={user_id}\").rating.to_numpy()\n",
    "        Y[movies_index_dict[movie_id], users_index_dict[user_id]] = rating[0]\n",
    "        R[movies_index_dict[movie_id], users_index_dict[user_id]] = 1"
   ],
   "metadata": {
    "collapsed": false,
    "ExecuteTime": {
     "end_time": "2023-07-24T07:01:28.161780258Z",
     "start_time": "2023-07-24T07:00:25.690088771Z"
    }
   }
  },
  {
   "cell_type": "markdown",
   "source": [
    "# Split train, val and test set"
   ],
   "metadata": {
    "collapsed": false
   }
  },
  {
   "cell_type": "code",
   "execution_count": 18,
   "outputs": [
    {
     "data": {
      "text/plain": "array([5. , 0. , 5. , 4. , 4. , 0. , 4. , 5. , 0. , 4.5], dtype=float16)"
     },
     "execution_count": 18,
     "metadata": {},
     "output_type": "execute_result"
    }
   ],
   "source": [
    "Y[0, :10]"
   ],
   "metadata": {
    "collapsed": false,
    "ExecuteTime": {
     "end_time": "2023-07-24T07:01:28.162609153Z",
     "start_time": "2023-07-24T07:01:28.161546283Z"
    }
   }
  },
  {
   "cell_type": "code",
   "execution_count": 19,
   "outputs": [
    {
     "name": "stdout",
     "output_type": "stream",
     "text": [
      "Train N: (3500, 500), Val N:(750, 500), Test:(750, 500)\n"
     ]
    }
   ],
   "source": [
    "# 70% for training\n",
    "N = Y.shape[0]\n",
    "\n",
    "n_train = math.ceil(N*0.7)\n",
    "n_val = math.ceil(N*0.15)\n",
    "n_test = N-n_train-n_val\n",
    "\n",
    "np.random.RandomState(42).shuffle(Y)\n",
    "np.random.RandomState(42).shuffle(R)\n",
    "\n",
    "Y_train = Y[:n_train]\n",
    "Y_val = Y[n_train:n_train+n_val]\n",
    "Y_test = Y[n_train+n_val:]\n",
    "\n",
    "print(f\"Train N: {Y_train.shape}, Val N:{Y_val.shape}, Test:{Y_test.shape}\")"
   ],
   "metadata": {
    "collapsed": false,
    "ExecuteTime": {
     "end_time": "2023-07-24T07:01:28.163732823Z",
     "start_time": "2023-07-24T07:01:28.162019837Z"
    }
   }
  },
  {
   "cell_type": "markdown",
   "source": [
    "# Colaborative filtering"
   ],
   "metadata": {
    "collapsed": false
   }
  },
  {
   "cell_type": "markdown",
   "source": [
    "# normalize values rating per movie"
   ],
   "metadata": {
    "collapsed": false
   }
  },
  {
   "cell_type": "code",
   "execution_count": 20,
   "outputs": [],
   "source": [
    "first_movie_mean = np.mean(Y[0, R[0, :].astype(bool)])"
   ],
   "metadata": {
    "collapsed": false,
    "ExecuteTime": {
     "end_time": "2023-07-24T07:01:28.163943662Z",
     "start_time": "2023-07-24T07:01:28.163213112Z"
    }
   }
  },
  {
   "cell_type": "code",
   "execution_count": 21,
   "outputs": [],
   "source": [
    "Y[Y == 0] = np.nan\n",
    "means = np.nanmean(Y, axis=1)\n",
    "means = means.reshape(Nm, 1)"
   ],
   "metadata": {
    "collapsed": false,
    "ExecuteTime": {
     "end_time": "2023-07-24T07:01:28.232499303Z",
     "start_time": "2023-07-24T07:01:28.163620350Z"
    }
   }
  },
  {
   "cell_type": "code",
   "execution_count": 22,
   "outputs": [],
   "source": [
    "Y -= means"
   ],
   "metadata": {
    "collapsed": false,
    "ExecuteTime": {
     "end_time": "2023-07-24T07:01:28.249129398Z",
     "start_time": "2023-07-24T07:01:28.209284414Z"
    }
   }
  },
  {
   "cell_type": "code",
   "execution_count": 23,
   "outputs": [],
   "source": [
    "assert means[0] == first_movie_mean"
   ],
   "metadata": {
    "collapsed": false,
    "ExecuteTime": {
     "end_time": "2023-07-24T07:01:28.249380562Z",
     "start_time": "2023-07-24T07:01:28.210704656Z"
    }
   }
  },
  {
   "cell_type": "code",
   "execution_count": 24,
   "outputs": [],
   "source": [
    "# revert nan conversion\n",
    "Y = np.nan_to_num(Y)"
   ],
   "metadata": {
    "collapsed": false,
    "ExecuteTime": {
     "end_time": "2023-07-24T07:01:28.249579532Z",
     "start_time": "2023-07-24T07:01:28.214621946Z"
    }
   }
  },
  {
   "cell_type": "markdown",
   "source": [
    "# algorithm!"
   ],
   "metadata": {
    "collapsed": false
   }
  },
  {
   "cell_type": "markdown",
   "source": [
    "# Try with an without linalg and with and without diving by Nu*Nm"
   ],
   "metadata": {
    "collapsed": false
   }
  },
  {
   "cell_type": "code",
   "execution_count": 80,
   "outputs": [
    {
     "name": "stderr",
     "output_type": "stream",
     "text": [
      "  3%|▎         | 14/500 [00:00<00:07, 65.59it/s]"
     ]
    },
    {
     "name": "stdout",
     "output_type": "stream",
     "text": [
      "loss: 15.42919635772705\n"
     ]
    },
    {
     "name": "stderr",
     "output_type": "stream",
     "text": [
      "  7%|▋         | 35/500 [00:00<00:06, 67.24it/s]"
     ]
    },
    {
     "name": "stdout",
     "output_type": "stream",
     "text": [
      "loss: 0.06498824805021286\n"
     ]
    },
    {
     "name": "stderr",
     "output_type": "stream",
     "text": [
      " 13%|█▎        | 63/500 [00:00<00:06, 66.79it/s]"
     ]
    },
    {
     "name": "stdout",
     "output_type": "stream",
     "text": [
      "loss: 0.031346626579761505\n"
     ]
    },
    {
     "name": "stderr",
     "output_type": "stream",
     "text": [
      " 17%|█▋        | 84/500 [00:01<00:06, 65.61it/s]"
     ]
    },
    {
     "name": "stdout",
     "output_type": "stream",
     "text": [
      "loss: 0.0162450410425663\n"
     ]
    },
    {
     "name": "stderr",
     "output_type": "stream",
     "text": [
      " 22%|██▏       | 112/500 [00:01<00:05, 67.79it/s]"
     ]
    },
    {
     "name": "stdout",
     "output_type": "stream",
     "text": [
      "loss: 0.01163502037525177\n"
     ]
    },
    {
     "name": "stderr",
     "output_type": "stream",
     "text": [
      " 27%|██▋       | 133/500 [00:01<00:05, 66.74it/s]"
     ]
    },
    {
     "name": "stdout",
     "output_type": "stream",
     "text": [
      "loss: 0.009134110994637012\n"
     ]
    },
    {
     "name": "stderr",
     "output_type": "stream",
     "text": [
      " 32%|███▏      | 161/500 [00:02<00:05, 67.50it/s]"
     ]
    },
    {
     "name": "stdout",
     "output_type": "stream",
     "text": [
      "loss: 0.0075041623786091805\n"
     ]
    },
    {
     "name": "stderr",
     "output_type": "stream",
     "text": [
      " 36%|███▋      | 182/500 [00:02<00:04, 67.95it/s]"
     ]
    },
    {
     "name": "stdout",
     "output_type": "stream",
     "text": [
      "loss: 0.006370161660015583\n"
     ]
    },
    {
     "name": "stderr",
     "output_type": "stream",
     "text": [
      " 42%|████▏     | 210/500 [00:03<00:04, 65.25it/s]"
     ]
    },
    {
     "name": "stdout",
     "output_type": "stream",
     "text": [
      "loss: 0.005549854598939419\n"
     ]
    },
    {
     "name": "stderr",
     "output_type": "stream",
     "text": [
      " 48%|████▊     | 238/500 [00:03<00:03, 65.82it/s]"
     ]
    },
    {
     "name": "stdout",
     "output_type": "stream",
     "text": [
      "loss: 0.004938431084156036\n"
     ]
    },
    {
     "name": "stderr",
     "output_type": "stream",
     "text": [
      " 52%|█████▏    | 259/500 [00:03<00:03, 65.42it/s]"
     ]
    },
    {
     "name": "stdout",
     "output_type": "stream",
     "text": [
      "loss: 0.00447120564058423\n"
     ]
    },
    {
     "name": "stderr",
     "output_type": "stream",
     "text": [
      " 57%|█████▋    | 287/500 [00:04<00:03, 63.99it/s]"
     ]
    },
    {
     "name": "stdout",
     "output_type": "stream",
     "text": [
      "loss: 0.004106457345187664\n"
     ]
    },
    {
     "name": "stderr",
     "output_type": "stream",
     "text": [
      " 62%|██████▏   | 308/500 [00:04<00:02, 65.19it/s]"
     ]
    },
    {
     "name": "stdout",
     "output_type": "stream",
     "text": [
      "loss: 0.0038162984419614077\n"
     ]
    },
    {
     "name": "stderr",
     "output_type": "stream",
     "text": [
      " 67%|██████▋   | 336/500 [00:05<00:02, 66.59it/s]"
     ]
    },
    {
     "name": "stdout",
     "output_type": "stream",
     "text": [
      "loss: 0.0035815159790217876\n"
     ]
    },
    {
     "name": "stderr",
     "output_type": "stream",
     "text": [
      " 71%|███████▏  | 357/500 [00:05<00:02, 65.66it/s]"
     ]
    },
    {
     "name": "stdout",
     "output_type": "stream",
     "text": [
      "loss: 0.0033885452430695295\n"
     ]
    },
    {
     "name": "stderr",
     "output_type": "stream",
     "text": [
      " 77%|███████▋  | 385/500 [00:05<00:01, 64.18it/s]"
     ]
    },
    {
     "name": "stdout",
     "output_type": "stream",
     "text": [
      "loss: 0.0032276238780468702\n"
     ]
    },
    {
     "name": "stderr",
     "output_type": "stream",
     "text": [
      " 83%|████████▎ | 413/500 [00:06<00:01, 64.22it/s]"
     ]
    },
    {
     "name": "stdout",
     "output_type": "stream",
     "text": [
      "loss: 0.0030916198156774044\n"
     ]
    },
    {
     "name": "stderr",
     "output_type": "stream",
     "text": [
      " 87%|████████▋ | 434/500 [00:06<00:01, 64.92it/s]"
     ]
    },
    {
     "name": "stdout",
     "output_type": "stream",
     "text": [
      "loss: 0.0029752515256404877\n"
     ]
    },
    {
     "name": "stderr",
     "output_type": "stream",
     "text": [
      " 92%|█████████▏| 462/500 [00:07<00:00, 65.75it/s]"
     ]
    },
    {
     "name": "stdout",
     "output_type": "stream",
     "text": [
      "loss: 0.002874556928873062\n"
     ]
    },
    {
     "name": "stderr",
     "output_type": "stream",
     "text": [
      " 97%|█████████▋| 483/500 [00:07<00:00, 65.05it/s]"
     ]
    },
    {
     "name": "stdout",
     "output_type": "stream",
     "text": [
      "loss: 0.0027865266893059015\n"
     ]
    },
    {
     "name": "stderr",
     "output_type": "stream",
     "text": [
      "100%|██████████| 500/500 [00:07<00:00, 65.40it/s]\n"
     ]
    }
   ],
   "source": [
    "# learn parameters W X and B\n",
    "# W users\n",
    "# X movies features to learn\n",
    "\n",
    "# number of features for users and movies?\n",
    "Nf = 100\n",
    "learning_rate = 1e-1\n",
    "lambda_reg = 1.5\n",
    "\n",
    "W = tf.Variable(np.random.ranf((Nu, Nf)), dtype='float32')\n",
    "X = tf.Variable(np.random.ranf((Nm, Nf)), dtype='float32')\n",
    "b = tf.Variable(np.random.ranf((1, Nu)), dtype=\"float32\")\n",
    "optimizer = tf.keras.optimizers.Adam(learning_rate=learning_rate)\n",
    "\n",
    "for epoch in tqdm(range(500)):\n",
    "    with tf.GradientTape() as tape:\n",
    "        # pred_rating = tf.linalg.matmul(X, tf.transpose(W))+b\n",
    "        pred_rating = tf.matmul(X, tf.transpose(W))+b\n",
    "        # Add normalization terms for W and X L2 norm\n",
    "        loss = tf.reduce_sum(((pred_rating-Y)*R)**2)\n",
    "        l2_reg = (lambda_reg/2)*((tf.reduce_sum(W**2))+(tf.reduce_sum(X**2)))\n",
    "        loss += l2_reg\n",
    "        loss/=(Nm*Nu)\n",
    "\n",
    "    gradients = tape.gradient(loss, [W, X, b])\n",
    "    optimizer.apply_gradients(zip(gradients, [W, X, b]))\n",
    "\n",
    "    if epoch%25==0:\n",
    "        print(f\"loss: {loss}\")"
   ],
   "metadata": {
    "collapsed": false,
    "ExecuteTime": {
     "end_time": "2023-07-24T07:43:54.645704941Z",
     "start_time": "2023-07-24T07:43:46.943221972Z"
    }
   }
  },
  {
   "cell_type": "code",
   "execution_count": 81,
   "outputs": [],
   "source": [
    "# index to user id\n",
    "users_reversed_index_dict = dict([(index, id) for id, index in users_index_dict.items()])\n",
    "\n",
    "# reversed dict movies\n",
    "movies_reversed_index_dict = dict([(index, id) for id, index in movies_index_dict.items()])"
   ],
   "metadata": {
    "collapsed": false,
    "ExecuteTime": {
     "end_time": "2023-07-24T07:43:56.017858870Z",
     "start_time": "2023-07-24T07:43:56.011692971Z"
    }
   }
  },
  {
   "cell_type": "code",
   "execution_count": 82,
   "outputs": [],
   "source": [
    "# Make predictions for all user's ranting\n",
    "ranking_preds = (tf.matmul(X, tf.transpose(W))+b) + means"
   ],
   "metadata": {
    "collapsed": false,
    "ExecuteTime": {
     "end_time": "2023-07-24T07:43:56.678883089Z",
     "start_time": "2023-07-24T07:43:56.671693164Z"
    }
   }
  },
  {
   "cell_type": "code",
   "execution_count": 96,
   "outputs": [
    {
     "name": "stdout",
     "output_type": "stream",
     "text": [
      "UserId : 1 in index position: 100\n",
      "Movie: Barbarian Invasions, The (Les invasions barbares) (2003) | user rating: 4.5 | predicted rating:4.498409271240234\n",
      "Movie: M. Hulot’s Holiday (Mr. Hulot's Holiday) (Vacances de Monsieur Hulot, Les) (1953) | user rating: 3.0 | predicted rating:2.969052791595459\n",
      "Movie: Bad Education (La mala educación) (2004) | user rating: 5.0 | predicted rating:4.947770118713379\n",
      "Recommended movie that is likely to rank over 4: Sound of Music, The (1965) | predicted ranking: 6.217047214508057\n",
      "Movie: Romancing the Stone (1984) | user rating: 5.0 | predicted rating:4.905855655670166\n",
      "Recommended movie that is likely to rank over 4: Muppet Movie, The (1979) | predicted ranking: 5.059998989105225\n",
      "Movie: X2: X-Men United (2003) | user rating: 5.0 | predicted rating:4.952508926391602\n",
      "Movie: Apocalypse Now (1979) | user rating: 2.5 | predicted rating:2.4893298149108887\n",
      "Recommended movie that is likely to rank over 4: Fast and the Furious, The (2001) | predicted ranking: 5.4824957847595215\n",
      "Movie: Last Castle, The (2001) | user rating: 5.0 | predicted rating:4.952402114868164\n",
      "Movie: Signs (2002) | user rating: 5.0 | predicted rating:4.903559684753418\n",
      "Movie: Meet the Fockers (2004) | user rating: 4.0 | predicted rating:3.9525160789489746\n",
      "Movie: Flightplan (2005) | user rating: 3.5 | predicted rating:3.512092113494873\n",
      "Movie: Ultraviolet (2006) | user rating: 3.5 | predicted rating:3.4525532722473145\n",
      "Recommended movie that is likely to rank over 4: Pan's Labyrinth (Laberinto del fauno, El) (2006) | predicted ranking: 5.102563858032227\n",
      "Movie: Terminator Salvation (2009) | user rating: 4.0 | predicted rating:3.7845826148986816\n",
      "Movie: Due Date (2010) | user rating: 3.0 | predicted rating:3.0441248416900635\n",
      "Recommended movie that is likely to rank over 4: Dictator, The (2012) | predicted ranking: 5.3261518478393555\n",
      "Recommended movie that is likely to rank over 4: Wolverine, The (2013) | predicted ranking: 5.180957317352295\n",
      "Movie: Avengers: Infinity War - Part II (2019) | user rating: 2.0 | predicted rating:2.1143643856048584\n",
      "Movie: Trading Places (1983) | user rating: 5.0 | predicted rating:4.961460113525391\n",
      "Movie: Birdcage, The (1996) | user rating: 3.5 | predicted rating:3.4525365829467773\n",
      "Recommended movie that is likely to rank over 4: Billy Madison (1995) | predicted ranking: 5.6844611167907715\n",
      "Recommended movie that is likely to rank over 4: In the Line of Fire (1993) | predicted ranking: 5.299386024475098\n",
      "Movie: Frighteners, The (1996) | user rating: 0.5 | predicted rating:0.7395350933074951\n",
      "Movie: O (2001) | user rating: 2.5 | predicted rating:2.4525182247161865\n",
      "Movie: Sword in the Stone, The (1963) | user rating: 2.0 | predicted rating:1.9524848461151123\n",
      "Recommended movie that is likely to rank over 4: Election (1999) | predicted ranking: 5.017421722412109\n",
      "Movie: American Pie (1999) | user rating: 2.5 | predicted rating:2.6014814376831055\n",
      "Movie: Hard Day's Night, A (1964) | user rating: 4.0 | predicted rating:3.911569118499756\n",
      "Movie: Singles (1992) | user rating: 4.5 | predicted rating:4.410717487335205\n",
      "Recommended movie that is likely to rank over 4: Big Trouble in Little China (1986) | predicted ranking: 5.039592266082764\n",
      "Movie: Wonderland (1999) | user rating: 5.0 | predicted rating:4.952449798583984\n",
      "Movie: Broadway Danny Rose (1984) | user rating: 3.0 | predicted rating:3.1166200637817383\n",
      "Movie: In the Loop (2009) | user rating: 4.0 | predicted rating:3.9780731201171875\n",
      "Movie: Scanner Darkly, A (2006) | user rating: 3.5 | predicted rating:3.59450101852417\n",
      "Recommended movie that is likely to rank over 4: Rebel Without a Cause (1955) | predicted ranking: 5.451949119567871\n",
      "Recommended movie that is likely to rank over 4: Enemy of the State (1998) | predicted ranking: 5.462577819824219\n",
      "Movie: Come and See (Idi i smotri) (1985) | user rating: 5.0 | predicted rating:4.941187858581543\n",
      "Movie: Wasabi (2001) | user rating: 5.0 | predicted rating:4.918259620666504\n",
      "Movie: Ponyo (Gake no ue no Ponyo) (2008) | user rating: 3.0 | predicted rating:2.9997098445892334\n",
      "Movie: Garden of Words, The (Koto no ha no niwa) (2013) | user rating: 3.0 | predicted rating:3.0157577991485596\n",
      "Movie: Lord of the Rings, The (1978) | user rating: 3.5 | predicted rating:3.594634532928467\n",
      "Movie: Alfie (2004) | user rating: 3.5 | predicted rating:3.515376091003418\n",
      "Movie: All Dogs Go to Heaven 2 (1996) | user rating: 5.0 | predicted rating:4.74551248550415\n",
      "Recommended movie that is likely to rank over 4: Ronin (1998) | predicted ranking: 5.1793951988220215\n",
      "Movie: Bring It On (2000) | user rating: 5.0 | predicted rating:4.930148601531982\n",
      "Movie: Big Sleep, The (1946) | user rating: 5.0 | predicted rating:4.96088171005249\n",
      "Recommended movie that is likely to rank over 4: 'Round Midnight (1986) | predicted ranking: 5.340917110443115\n",
      "Movie: Iris (2001) | user rating: 4.0 | predicted rating:3.952476978302002\n",
      "Movie: The Diary of Anne Frank (1959) | user rating: 3.0 | predicted rating:2.9524435997009277\n",
      "Movie: Party Girl (1995) | user rating: 2.5 | predicted rating:2.4524707794189453\n",
      "Movie: In the Heat of the Night (1967) | user rating: 3.5 | predicted rating:3.439514398574829\n",
      "Movie: We Were Soldiers (2002) | user rating: 5.0 | predicted rating:4.95247745513916\n",
      "Movie: Crossing Guard, The (1995) | user rating: 3.0 | predicted rating:3.0866551399230957\n",
      "Movie: Mighty Joe Young (1949) | user rating: 2.5 | predicted rating:2.572880983352661\n",
      "Recommended movie that is likely to rank over 4: Death Becomes Her (1992) | predicted ranking: 5.284720420837402\n",
      "Movie: Whipped (2000) | user rating: 3.5 | predicted rating:3.640784502029419\n",
      "Movie: Yes Man (2008) | user rating: 4.5 | predicted rating:4.439080238342285\n",
      "Movie: Gridlock'd (1997) | user rating: 4.0 | predicted rating:3.9844396114349365\n",
      "Movie: Stoning of Soraya M., The (2008) | user rating: 4.0 | predicted rating:4.090454578399658\n",
      "Movie: Incendies (2010) | user rating: 5.0 | predicted rating:4.949348449707031\n",
      "Movie: Endless Summer, The (1966) | user rating: 4.0 | predicted rating:4.00800085067749\n",
      "Movie: Elevator to the Gallows (a.k.a. Frantic) (Ascenseur pour l'échafaud) (1958) | user rating: 5.0 | predicted rating:4.888720989227295\n",
      "Movie: Black Ice (Musta jää) (2007) | user rating: 2.5 | predicted rating:2.6014931201934814\n",
      "Movie: Bling Ring, The (2013) | user rating: 3.5 | predicted rating:3.5564122200012207\n",
      "Movie: Still Alice (2014) | user rating: 3.5 | predicted rating:3.5422346591949463\n",
      "Movie: Confessions of a Teenage Drama Queen (2004) | user rating: 4.5 | predicted rating:4.40849494934082\n",
      "Movie: Going Clear: Scientology and the Prison of Belief (2015) | user rating: 3.5 | predicted rating:3.5002098083496094\n",
      "Movie: Godzilla 1985: The Legend Is Reborn (Gojira) (Godzilla) (Return of Godzilla, The) (1984) | user rating: 4.0 | predicted rating:3.993504524230957\n",
      "Movie: Monte Carlo (2011) | user rating: 1.0 | predicted rating:0.9525173902511597\n",
      "Movie: Blues Brothers 2000 (1998) | user rating: 4.0 | predicted rating:3.9752566814422607\n",
      "Movie: Perez Family, The (1995) | user rating: 3.5 | predicted rating:3.496180295944214\n",
      "Movie: Benchwarmers, The (2006) | user rating: 4.5 | predicted rating:4.45236873626709\n",
      "Movie: Misérables, Les (2012) | user rating: 4.0 | predicted rating:3.9669361114501953\n",
      "Movie: The Interview (2014) | user rating: 5.0 | predicted rating:4.877401351928711\n",
      "Recommended movie that is likely to rank over 4: Face in the Crowd, A (1957) | predicted ranking: 5.272311210632324\n",
      "Recommended movie that is likely to rank over 4: Stepford Wives, The (1975) | predicted ranking: 5.308738708496094\n",
      "Recommended movie that is likely to rank over 4: Love Story (1970) | predicted ranking: 5.004944801330566\n",
      "Movie: Taps (1981) | user rating: 5.0 | predicted rating:4.838600158691406\n",
      "Movie: Strange Brew (1983) | user rating: 4.0 | predicted rating:3.917475938796997\n",
      "Movie: New Rose Hotel (1998) | user rating: 4.5 | predicted rating:4.404597759246826\n",
      "Movie: Bangkok Dangerous (2008) | user rating: 3.5 | predicted rating:3.476250648498535\n",
      "Movie: Passion Fish (1992) | user rating: 4.0 | predicted rating:4.060220241546631\n",
      "Recommended movie that is likely to rank over 4: Hope Floats (1998) | predicted ranking: 5.048254013061523\n",
      "Movie: Night of the Living Dead (1990) | user rating: 3.5 | predicted rating:3.5612173080444336\n",
      "Recommended movie that is likely to rank over 4: Troll Hunter, The (Trolljegeren) (2010) | predicted ranking: 5.211463928222656\n",
      "Movie: It Comes at Night (2017) | user rating: 4.5 | predicted rating:4.427191734313965\n",
      "Movie: Deception (2008) | user rating: 4.0 | predicted rating:3.9809751510620117\n",
      "Movie: Day the Earth Stood Still, The (2008) | user rating: 4.0 | predicted rating:3.977440357208252\n"
     ]
    }
   ],
   "source": [
    "# for user 0\n",
    "user_index_position = 100\n",
    "\n",
    "print(f\"UserId : {users_reversed_index_dict[0]} in index position: {user_index_position}\")\n",
    "\n",
    "user_ranking_predictions = ranking_preds[:, user_id]\n",
    "user_rated_movies_mask = R[:, user_id]\n",
    "user_rating = (Y + means)[:, user_id]\n",
    "\n",
    "for movie_index, user_rating_mask in enumerate(user_rated_movies_mask):\n",
    "    movie_title = movies_df.query(f\"movieId=={movies_reversed_index_dict[movie_index]}\").title.to_numpy()[0]\n",
    "    user_predicted_ranking = user_ranking_predictions[movie_index]\n",
    "    if user_rating_mask:\n",
    "        print(f\"Movie: {movie_title} | user rating: {user_rating[movie_index]} | predicted rating:{user_predicted_ranking}\")\n",
    "    else:\n",
    "        if user_predicted_ranking>=5:\n",
    "            print(f\"Recommended movie that is likely to rank over 4: {movie_title} | predicted ranking: {user_predicted_ranking}\")"
   ],
   "metadata": {
    "collapsed": false,
    "ExecuteTime": {
     "end_time": "2023-07-24T08:22:02.076076254Z",
     "start_time": "2023-07-24T08:21:56.402627722Z"
    }
   }
  },
  {
   "cell_type": "markdown",
   "source": [
    "# TODO:\n",
    "\n",
    "# 1- find similar movies based on cosine distance\n",
    "\n",
    "# 2- Limit recomendations up to top N\n",
    "# 3- Add a new user np.c_ to concatenate and add a new users rating\n",
    "\n",
    "## Strategy: Decide which user and movies to select\n",
    "##  I would choose the latest 5 years movies pluss iconic movies\n",
    "## users with more than 20 ratings, active users\n",
    "## If I want to release a new funcionality\n",
    "## I would select past active users from last month who paid for premium to bring them back before we launch the new thing"
   ],
   "metadata": {
    "collapsed": false
   }
  },
  {
   "cell_type": "code",
   "execution_count": 104,
   "outputs": [],
   "source": [
    "def cosine_distance(movie_index_1, movie_index_2):\n",
    "    return tf.matmul(tf.expand_dims(W[movie_index_1, :], axis=0), tf.transpose(tf.expand_dims(W[movie_index_2, :], axis=0)))/(tf.reduce_sum(W[movie_index_1, :]**2)+tf.reduce_sum(W[movie_index_2, :]**2))\n"
   ],
   "metadata": {
    "collapsed": false,
    "ExecuteTime": {
     "end_time": "2023-07-24T08:47:26.909469211Z",
     "start_time": "2023-07-24T08:47:26.868883861Z"
    }
   }
  },
  {
   "cell_type": "code",
   "execution_count": 105,
   "outputs": [
    {
     "data": {
      "text/plain": "<tf.Tensor: shape=(1, 1), dtype=float32, numpy=array([[0.50000006]], dtype=float32)>"
     },
     "execution_count": 105,
     "metadata": {},
     "output_type": "execute_result"
    }
   ],
   "source": [
    "cosine_distance(0, 0)"
   ],
   "metadata": {
    "collapsed": false,
    "ExecuteTime": {
     "end_time": "2023-07-24T08:47:27.165519420Z",
     "start_time": "2023-07-24T08:47:27.124278377Z"
    }
   }
  }
 ],
 "metadata": {
  "kernelspec": {
   "display_name": "Python 3",
   "language": "python",
   "name": "python3"
  },
  "language_info": {
   "codemirror_mode": {
    "name": "ipython",
    "version": 2
   },
   "file_extension": ".py",
   "mimetype": "text/x-python",
   "name": "python",
   "nbconvert_exporter": "python",
   "pygments_lexer": "ipython2",
   "version": "2.7.6"
  }
 },
 "nbformat": 4,
 "nbformat_minor": 0
}
