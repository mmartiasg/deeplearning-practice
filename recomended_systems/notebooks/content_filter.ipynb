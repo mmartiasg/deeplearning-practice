{
 "cells": [
  {
   "cell_type": "code",
   "execution_count": 1,
   "metadata": {
    "collapsed": true,
    "ExecuteTime": {
     "end_time": "2023-07-28T08:43:36.713043237Z",
     "start_time": "2023-07-28T08:43:34.806982989Z"
    }
   },
   "outputs": [
    {
     "name": "stderr",
     "output_type": "stream",
     "text": [
      "2023-07-28 10:43:35.154196: I tensorflow/core/platform/cpu_feature_guard.cc:193] This TensorFlow binary is optimized with oneAPI Deep Neural Network Library (oneDNN) to use the following CPU instructions in performance-critical operations:  AVX2 FMA\n",
      "To enable them in other operations, rebuild TensorFlow with the appropriate compiler flags.\n",
      "2023-07-28 10:43:35.307423: E tensorflow/stream_executor/cuda/cuda_blas.cc:2981] Unable to register cuBLAS factory: Attempting to register factory for plugin cuBLAS when one has already been registered\n",
      "2023-07-28 10:43:35.889423: W tensorflow/stream_executor/platform/default/dso_loader.cc:64] Could not load dynamic library 'libnvinfer.so.7'; dlerror: libnvinfer.so.7: cannot open shared object file: No such file or directory\n",
      "2023-07-28 10:43:35.889471: W tensorflow/stream_executor/platform/default/dso_loader.cc:64] Could not load dynamic library 'libnvinfer_plugin.so.7'; dlerror: libnvinfer_plugin.so.7: cannot open shared object file: No such file or directory\n",
      "2023-07-28 10:43:35.889476: W tensorflow/compiler/tf2tensorrt/utils/py_utils.cc:38] TF-TRT Warning: Cannot dlopen some TensorRT libraries. If you would like to use Nvidia GPU with TensorRT, please make sure the missing libraries mentioned above are installed properly.\n"
     ]
    }
   ],
   "source": [
    "import pandas as pd\n",
    "import numpy as np\n",
    "import math\n",
    "import tensorflow as tf"
   ]
  },
  {
   "cell_type": "code",
   "execution_count": 2,
   "outputs": [
    {
     "data": {
      "text/plain": "   userId  movieId               tag   timestamp\n0       3      260           classic  1439472355\n1       3      260            sci-fi  1439472256\n2       4     1732       dark comedy  1573943598\n3       4     1732    great dialogue  1573943604\n4       4     7569  so bad it's good  1573943455",
      "text/html": "<div>\n<style scoped>\n    .dataframe tbody tr th:only-of-type {\n        vertical-align: middle;\n    }\n\n    .dataframe tbody tr th {\n        vertical-align: top;\n    }\n\n    .dataframe thead th {\n        text-align: right;\n    }\n</style>\n<table border=\"1\" class=\"dataframe\">\n  <thead>\n    <tr style=\"text-align: right;\">\n      <th></th>\n      <th>userId</th>\n      <th>movieId</th>\n      <th>tag</th>\n      <th>timestamp</th>\n    </tr>\n  </thead>\n  <tbody>\n    <tr>\n      <th>0</th>\n      <td>3</td>\n      <td>260</td>\n      <td>classic</td>\n      <td>1439472355</td>\n    </tr>\n    <tr>\n      <th>1</th>\n      <td>3</td>\n      <td>260</td>\n      <td>sci-fi</td>\n      <td>1439472256</td>\n    </tr>\n    <tr>\n      <th>2</th>\n      <td>4</td>\n      <td>1732</td>\n      <td>dark comedy</td>\n      <td>1573943598</td>\n    </tr>\n    <tr>\n      <th>3</th>\n      <td>4</td>\n      <td>1732</td>\n      <td>great dialogue</td>\n      <td>1573943604</td>\n    </tr>\n    <tr>\n      <th>4</th>\n      <td>4</td>\n      <td>7569</td>\n      <td>so bad it's good</td>\n      <td>1573943455</td>\n    </tr>\n  </tbody>\n</table>\n</div>"
     },
     "execution_count": 2,
     "metadata": {},
     "output_type": "execute_result"
    }
   ],
   "source": [
    "pd.read_csv(\"ml-25m/tags.csv\").head()"
   ],
   "metadata": {
    "collapsed": false,
    "ExecuteTime": {
     "end_time": "2023-07-28T08:43:37.067225506Z",
     "start_time": "2023-07-28T08:43:36.714327558Z"
    }
   }
  },
  {
   "cell_type": "code",
   "execution_count": 3,
   "outputs": [
    {
     "data": {
      "text/plain": "array(['classic', 'sci-fi', 'dark comedy', ..., 'genre busting',\n       'the wife did it', 'cornetto triolgy'], dtype=object)"
     },
     "execution_count": 3,
     "metadata": {},
     "output_type": "execute_result"
    }
   ],
   "source": [
    "pd.read_csv(\"ml-25m/tags.csv\").tag.unique()"
   ],
   "metadata": {
    "collapsed": false,
    "ExecuteTime": {
     "end_time": "2023-07-28T08:43:37.446655118Z",
     "start_time": "2023-07-28T08:43:37.066535579Z"
    }
   }
  },
  {
   "cell_type": "code",
   "execution_count": 4,
   "outputs": [],
   "source": [
    "users_rating_df = pd.read_csv(\"ml-25m/ratings.csv\")\n",
    "movies_df = pd.read_csv(\"ml-25m/movies.csv\")"
   ],
   "metadata": {
    "collapsed": false,
    "ExecuteTime": {
     "end_time": "2023-07-28T08:43:41.835609376Z",
     "start_time": "2023-07-28T08:43:37.445378921Z"
    }
   }
  },
  {
   "cell_type": "code",
   "execution_count": 5,
   "outputs": [
    {
     "data": {
      "text/plain": "   userId  movieId  rating   timestamp\n0       1      296     5.0  1147880044\n1       1      306     3.5  1147868817\n2       1      307     5.0  1147868828\n3       1      665     5.0  1147878820\n4       1      899     3.5  1147868510",
      "text/html": "<div>\n<style scoped>\n    .dataframe tbody tr th:only-of-type {\n        vertical-align: middle;\n    }\n\n    .dataframe tbody tr th {\n        vertical-align: top;\n    }\n\n    .dataframe thead th {\n        text-align: right;\n    }\n</style>\n<table border=\"1\" class=\"dataframe\">\n  <thead>\n    <tr style=\"text-align: right;\">\n      <th></th>\n      <th>userId</th>\n      <th>movieId</th>\n      <th>rating</th>\n      <th>timestamp</th>\n    </tr>\n  </thead>\n  <tbody>\n    <tr>\n      <th>0</th>\n      <td>1</td>\n      <td>296</td>\n      <td>5.0</td>\n      <td>1147880044</td>\n    </tr>\n    <tr>\n      <th>1</th>\n      <td>1</td>\n      <td>306</td>\n      <td>3.5</td>\n      <td>1147868817</td>\n    </tr>\n    <tr>\n      <th>2</th>\n      <td>1</td>\n      <td>307</td>\n      <td>5.0</td>\n      <td>1147868828</td>\n    </tr>\n    <tr>\n      <th>3</th>\n      <td>1</td>\n      <td>665</td>\n      <td>5.0</td>\n      <td>1147878820</td>\n    </tr>\n    <tr>\n      <th>4</th>\n      <td>1</td>\n      <td>899</td>\n      <td>3.5</td>\n      <td>1147868510</td>\n    </tr>\n  </tbody>\n</table>\n</div>"
     },
     "execution_count": 5,
     "metadata": {},
     "output_type": "execute_result"
    }
   ],
   "source": [
    "users_rating_df.head()"
   ],
   "metadata": {
    "collapsed": false,
    "ExecuteTime": {
     "end_time": "2023-07-28T08:43:41.844229844Z",
     "start_time": "2023-07-28T08:43:41.840854276Z"
    }
   }
  },
  {
   "cell_type": "code",
   "execution_count": 6,
   "outputs": [
    {
     "data": {
      "text/plain": "   movieId                               title  \\\n0        1                    Toy Story (1995)   \n1        2                      Jumanji (1995)   \n2        3             Grumpier Old Men (1995)   \n3        4            Waiting to Exhale (1995)   \n4        5  Father of the Bride Part II (1995)   \n\n                                        genres  \n0  Adventure|Animation|Children|Comedy|Fantasy  \n1                   Adventure|Children|Fantasy  \n2                               Comedy|Romance  \n3                         Comedy|Drama|Romance  \n4                                       Comedy  ",
      "text/html": "<div>\n<style scoped>\n    .dataframe tbody tr th:only-of-type {\n        vertical-align: middle;\n    }\n\n    .dataframe tbody tr th {\n        vertical-align: top;\n    }\n\n    .dataframe thead th {\n        text-align: right;\n    }\n</style>\n<table border=\"1\" class=\"dataframe\">\n  <thead>\n    <tr style=\"text-align: right;\">\n      <th></th>\n      <th>movieId</th>\n      <th>title</th>\n      <th>genres</th>\n    </tr>\n  </thead>\n  <tbody>\n    <tr>\n      <th>0</th>\n      <td>1</td>\n      <td>Toy Story (1995)</td>\n      <td>Adventure|Animation|Children|Comedy|Fantasy</td>\n    </tr>\n    <tr>\n      <th>1</th>\n      <td>2</td>\n      <td>Jumanji (1995)</td>\n      <td>Adventure|Children|Fantasy</td>\n    </tr>\n    <tr>\n      <th>2</th>\n      <td>3</td>\n      <td>Grumpier Old Men (1995)</td>\n      <td>Comedy|Romance</td>\n    </tr>\n    <tr>\n      <th>3</th>\n      <td>4</td>\n      <td>Waiting to Exhale (1995)</td>\n      <td>Comedy|Drama|Romance</td>\n    </tr>\n    <tr>\n      <th>4</th>\n      <td>5</td>\n      <td>Father of the Bride Part II (1995)</td>\n      <td>Comedy</td>\n    </tr>\n  </tbody>\n</table>\n</div>"
     },
     "execution_count": 6,
     "metadata": {},
     "output_type": "execute_result"
    }
   ],
   "source": [
    "movies_df.head()"
   ],
   "metadata": {
    "collapsed": false,
    "ExecuteTime": {
     "end_time": "2023-07-28T08:43:41.850448240Z",
     "start_time": "2023-07-28T08:43:41.846931594Z"
    }
   }
  },
  {
   "cell_type": "markdown",
   "source": [
    "# Get one hot encoded vector or genre"
   ],
   "metadata": {
    "collapsed": false
   }
  },
  {
   "cell_type": "code",
   "execution_count": 7,
   "outputs": [
    {
     "data": {
      "text/plain": "   movieId                               title  \\\n0        1                    Toy Story (1995)   \n1        2                      Jumanji (1995)   \n2        3             Grumpier Old Men (1995)   \n3        4            Waiting to Exhale (1995)   \n4        5  Father of the Bride Part II (1995)   \n\n                                        genres  \n0  Adventure|Animation|Children|Comedy|Fantasy  \n1                   Adventure|Children|Fantasy  \n2                               Comedy|Romance  \n3                         Comedy|Drama|Romance  \n4                                       Comedy  ",
      "text/html": "<div>\n<style scoped>\n    .dataframe tbody tr th:only-of-type {\n        vertical-align: middle;\n    }\n\n    .dataframe tbody tr th {\n        vertical-align: top;\n    }\n\n    .dataframe thead th {\n        text-align: right;\n    }\n</style>\n<table border=\"1\" class=\"dataframe\">\n  <thead>\n    <tr style=\"text-align: right;\">\n      <th></th>\n      <th>movieId</th>\n      <th>title</th>\n      <th>genres</th>\n    </tr>\n  </thead>\n  <tbody>\n    <tr>\n      <th>0</th>\n      <td>1</td>\n      <td>Toy Story (1995)</td>\n      <td>Adventure|Animation|Children|Comedy|Fantasy</td>\n    </tr>\n    <tr>\n      <th>1</th>\n      <td>2</td>\n      <td>Jumanji (1995)</td>\n      <td>Adventure|Children|Fantasy</td>\n    </tr>\n    <tr>\n      <th>2</th>\n      <td>3</td>\n      <td>Grumpier Old Men (1995)</td>\n      <td>Comedy|Romance</td>\n    </tr>\n    <tr>\n      <th>3</th>\n      <td>4</td>\n      <td>Waiting to Exhale (1995)</td>\n      <td>Comedy|Drama|Romance</td>\n    </tr>\n    <tr>\n      <th>4</th>\n      <td>5</td>\n      <td>Father of the Bride Part II (1995)</td>\n      <td>Comedy</td>\n    </tr>\n  </tbody>\n</table>\n</div>"
     },
     "execution_count": 7,
     "metadata": {},
     "output_type": "execute_result"
    }
   ],
   "source": [
    "movies_df.head()"
   ],
   "metadata": {
    "collapsed": false,
    "ExecuteTime": {
     "end_time": "2023-07-28T08:43:41.856363078Z",
     "start_time": "2023-07-28T08:43:41.852904286Z"
    }
   }
  },
  {
   "cell_type": "code",
   "execution_count": 8,
   "outputs": [],
   "source": [
    "user_rating_movie_details_df = pd.merge(users_rating_df, movies_df, how=\"left\", on=\"movieId\")"
   ],
   "metadata": {
    "collapsed": false,
    "ExecuteTime": {
     "end_time": "2023-07-28T08:43:43.860067825Z",
     "start_time": "2023-07-28T08:43:41.859870668Z"
    }
   }
  },
  {
   "cell_type": "code",
   "execution_count": 9,
   "outputs": [
    {
     "data": {
      "text/plain": "   userId  movieId  rating   timestamp  \\\n0       1      296     5.0  1147880044   \n1       1      306     3.5  1147868817   \n2       1      307     5.0  1147868828   \n3       1      665     5.0  1147878820   \n4       1      899     3.5  1147868510   \n\n                                              title  \\\n0                               Pulp Fiction (1994)   \n1  Three Colors: Red (Trois couleurs: Rouge) (1994)   \n2  Three Colors: Blue (Trois couleurs: Bleu) (1993)   \n3                                Underground (1995)   \n4                        Singin' in the Rain (1952)   \n\n                        genres  \n0  Comedy|Crime|Drama|Thriller  \n1                        Drama  \n2                        Drama  \n3             Comedy|Drama|War  \n4       Comedy|Musical|Romance  ",
      "text/html": "<div>\n<style scoped>\n    .dataframe tbody tr th:only-of-type {\n        vertical-align: middle;\n    }\n\n    .dataframe tbody tr th {\n        vertical-align: top;\n    }\n\n    .dataframe thead th {\n        text-align: right;\n    }\n</style>\n<table border=\"1\" class=\"dataframe\">\n  <thead>\n    <tr style=\"text-align: right;\">\n      <th></th>\n      <th>userId</th>\n      <th>movieId</th>\n      <th>rating</th>\n      <th>timestamp</th>\n      <th>title</th>\n      <th>genres</th>\n    </tr>\n  </thead>\n  <tbody>\n    <tr>\n      <th>0</th>\n      <td>1</td>\n      <td>296</td>\n      <td>5.0</td>\n      <td>1147880044</td>\n      <td>Pulp Fiction (1994)</td>\n      <td>Comedy|Crime|Drama|Thriller</td>\n    </tr>\n    <tr>\n      <th>1</th>\n      <td>1</td>\n      <td>306</td>\n      <td>3.5</td>\n      <td>1147868817</td>\n      <td>Three Colors: Red (Trois couleurs: Rouge) (1994)</td>\n      <td>Drama</td>\n    </tr>\n    <tr>\n      <th>2</th>\n      <td>1</td>\n      <td>307</td>\n      <td>5.0</td>\n      <td>1147868828</td>\n      <td>Three Colors: Blue (Trois couleurs: Bleu) (1993)</td>\n      <td>Drama</td>\n    </tr>\n    <tr>\n      <th>3</th>\n      <td>1</td>\n      <td>665</td>\n      <td>5.0</td>\n      <td>1147878820</td>\n      <td>Underground (1995)</td>\n      <td>Comedy|Drama|War</td>\n    </tr>\n    <tr>\n      <th>4</th>\n      <td>1</td>\n      <td>899</td>\n      <td>3.5</td>\n      <td>1147868510</td>\n      <td>Singin' in the Rain (1952)</td>\n      <td>Comedy|Musical|Romance</td>\n    </tr>\n  </tbody>\n</table>\n</div>"
     },
     "execution_count": 9,
     "metadata": {},
     "output_type": "execute_result"
    }
   ],
   "source": [
    "user_rating_movie_details_df.head()"
   ],
   "metadata": {
    "collapsed": false,
    "ExecuteTime": {
     "end_time": "2023-07-28T08:43:43.871082569Z",
     "start_time": "2023-07-28T08:43:43.864721675Z"
    }
   }
  },
  {
   "cell_type": "markdown",
   "source": [
    "Each user is garatee to have at least 20 reviews,\n",
    "I have the time stamp thus I have a way to make a sequence."
   ],
   "metadata": {
    "collapsed": false
   }
  },
  {
   "cell_type": "code",
   "execution_count": 10,
   "outputs": [
    {
     "data": {
      "text/plain": "    userId  movieId  rating   timestamp  \\\n36       1     5952     4.0  1147868053   \n13       1     2012     2.5  1147868068   \n12       1     2011     2.5  1147868079   \n11       1     1653     4.0  1147868097   \n9        1     1250     4.0  1147868414   \n..     ...      ...     ...         ...   \n65       1    27193     3.0  1147879774   \n32       1     5684     2.0  1147879797   \n45       1     7318     2.0  1147879850   \n0        1      296     5.0  1147880044   \n48       1     7361     5.0  1147880055   \n\n                                            title  \\\n36  Lord of the Rings: The Two Towers, The (2002)   \n13             Back to the Future Part III (1990)   \n12              Back to the Future Part II (1989)   \n11                                 Gattaca (1997)   \n9            Bridge on the River Kwai, The (1957)   \n..                                            ...   \n65                                  Taxi 2 (2000)   \n32                              Naqoyqatsi (2002)   \n45              Passion of the Christ, The (2004)   \n0                             Pulp Fiction (1994)   \n48   Eternal Sunshine of the Spotless Mind (2004)   \n\n                             genres  \n36                Adventure|Fantasy  \n13  Adventure|Comedy|Sci-Fi|Western  \n12          Adventure|Comedy|Sci-Fi  \n11            Drama|Sci-Fi|Thriller  \n9               Adventure|Drama|War  \n..                              ...  \n65                    Action|Comedy  \n32                      Documentary  \n45                            Drama  \n0       Comedy|Crime|Drama|Thriller  \n48             Drama|Romance|Sci-Fi  \n\n[70 rows x 6 columns]",
      "text/html": "<div>\n<style scoped>\n    .dataframe tbody tr th:only-of-type {\n        vertical-align: middle;\n    }\n\n    .dataframe tbody tr th {\n        vertical-align: top;\n    }\n\n    .dataframe thead th {\n        text-align: right;\n    }\n</style>\n<table border=\"1\" class=\"dataframe\">\n  <thead>\n    <tr style=\"text-align: right;\">\n      <th></th>\n      <th>userId</th>\n      <th>movieId</th>\n      <th>rating</th>\n      <th>timestamp</th>\n      <th>title</th>\n      <th>genres</th>\n    </tr>\n  </thead>\n  <tbody>\n    <tr>\n      <th>36</th>\n      <td>1</td>\n      <td>5952</td>\n      <td>4.0</td>\n      <td>1147868053</td>\n      <td>Lord of the Rings: The Two Towers, The (2002)</td>\n      <td>Adventure|Fantasy</td>\n    </tr>\n    <tr>\n      <th>13</th>\n      <td>1</td>\n      <td>2012</td>\n      <td>2.5</td>\n      <td>1147868068</td>\n      <td>Back to the Future Part III (1990)</td>\n      <td>Adventure|Comedy|Sci-Fi|Western</td>\n    </tr>\n    <tr>\n      <th>12</th>\n      <td>1</td>\n      <td>2011</td>\n      <td>2.5</td>\n      <td>1147868079</td>\n      <td>Back to the Future Part II (1989)</td>\n      <td>Adventure|Comedy|Sci-Fi</td>\n    </tr>\n    <tr>\n      <th>11</th>\n      <td>1</td>\n      <td>1653</td>\n      <td>4.0</td>\n      <td>1147868097</td>\n      <td>Gattaca (1997)</td>\n      <td>Drama|Sci-Fi|Thriller</td>\n    </tr>\n    <tr>\n      <th>9</th>\n      <td>1</td>\n      <td>1250</td>\n      <td>4.0</td>\n      <td>1147868414</td>\n      <td>Bridge on the River Kwai, The (1957)</td>\n      <td>Adventure|Drama|War</td>\n    </tr>\n    <tr>\n      <th>...</th>\n      <td>...</td>\n      <td>...</td>\n      <td>...</td>\n      <td>...</td>\n      <td>...</td>\n      <td>...</td>\n    </tr>\n    <tr>\n      <th>65</th>\n      <td>1</td>\n      <td>27193</td>\n      <td>3.0</td>\n      <td>1147879774</td>\n      <td>Taxi 2 (2000)</td>\n      <td>Action|Comedy</td>\n    </tr>\n    <tr>\n      <th>32</th>\n      <td>1</td>\n      <td>5684</td>\n      <td>2.0</td>\n      <td>1147879797</td>\n      <td>Naqoyqatsi (2002)</td>\n      <td>Documentary</td>\n    </tr>\n    <tr>\n      <th>45</th>\n      <td>1</td>\n      <td>7318</td>\n      <td>2.0</td>\n      <td>1147879850</td>\n      <td>Passion of the Christ, The (2004)</td>\n      <td>Drama</td>\n    </tr>\n    <tr>\n      <th>0</th>\n      <td>1</td>\n      <td>296</td>\n      <td>5.0</td>\n      <td>1147880044</td>\n      <td>Pulp Fiction (1994)</td>\n      <td>Comedy|Crime|Drama|Thriller</td>\n    </tr>\n    <tr>\n      <th>48</th>\n      <td>1</td>\n      <td>7361</td>\n      <td>5.0</td>\n      <td>1147880055</td>\n      <td>Eternal Sunshine of the Spotless Mind (2004)</td>\n      <td>Drama|Romance|Sci-Fi</td>\n    </tr>\n  </tbody>\n</table>\n<p>70 rows × 6 columns</p>\n</div>"
     },
     "execution_count": 10,
     "metadata": {},
     "output_type": "execute_result"
    }
   ],
   "source": [
    "# study for user 1\n",
    "user_rating_movie_details_df.query(\"userId==1\").sort_values(by=\"timestamp\", ascending=True)"
   ],
   "metadata": {
    "collapsed": false,
    "ExecuteTime": {
     "end_time": "2023-07-28T08:43:43.989284989Z",
     "start_time": "2023-07-28T08:43:43.868650658Z"
    }
   }
  },
  {
   "cell_type": "code",
   "execution_count": 11,
   "outputs": [
    {
     "data": {
      "text/plain": "          userId  movieId  rating   timestamp  \\\n36             1     5952     4.0  1147868053   \n212            2     5952     5.0  1141415528   \n453            3     5952     4.0  1439472616   \n972            4     5952     4.5  1574193472   \n2636          13     5952     4.5  1237970978   \n...          ...      ...     ...         ...   \n24998468  162532     5952     5.0  1418000735   \n24998762  162533     5952     5.0  1281406073   \n24999074  162534     5952     3.0  1527428422   \n24999701  162538     5952     4.0  1438781110   \n25000065  162541     5952     5.0  1240952617   \n\n                                                  title             genres  \n36        Lord of the Rings: The Two Towers, The (2002)  Adventure|Fantasy  \n212       Lord of the Rings: The Two Towers, The (2002)  Adventure|Fantasy  \n453       Lord of the Rings: The Two Towers, The (2002)  Adventure|Fantasy  \n972       Lord of the Rings: The Two Towers, The (2002)  Adventure|Fantasy  \n2636      Lord of the Rings: The Two Towers, The (2002)  Adventure|Fantasy  \n...                                                 ...                ...  \n24998468  Lord of the Rings: The Two Towers, The (2002)  Adventure|Fantasy  \n24998762  Lord of the Rings: The Two Towers, The (2002)  Adventure|Fantasy  \n24999074  Lord of the Rings: The Two Towers, The (2002)  Adventure|Fantasy  \n24999701  Lord of the Rings: The Two Towers, The (2002)  Adventure|Fantasy  \n25000065  Lord of the Rings: The Two Towers, The (2002)  Adventure|Fantasy  \n\n[51138 rows x 6 columns]",
      "text/html": "<div>\n<style scoped>\n    .dataframe tbody tr th:only-of-type {\n        vertical-align: middle;\n    }\n\n    .dataframe tbody tr th {\n        vertical-align: top;\n    }\n\n    .dataframe thead th {\n        text-align: right;\n    }\n</style>\n<table border=\"1\" class=\"dataframe\">\n  <thead>\n    <tr style=\"text-align: right;\">\n      <th></th>\n      <th>userId</th>\n      <th>movieId</th>\n      <th>rating</th>\n      <th>timestamp</th>\n      <th>title</th>\n      <th>genres</th>\n    </tr>\n  </thead>\n  <tbody>\n    <tr>\n      <th>36</th>\n      <td>1</td>\n      <td>5952</td>\n      <td>4.0</td>\n      <td>1147868053</td>\n      <td>Lord of the Rings: The Two Towers, The (2002)</td>\n      <td>Adventure|Fantasy</td>\n    </tr>\n    <tr>\n      <th>212</th>\n      <td>2</td>\n      <td>5952</td>\n      <td>5.0</td>\n      <td>1141415528</td>\n      <td>Lord of the Rings: The Two Towers, The (2002)</td>\n      <td>Adventure|Fantasy</td>\n    </tr>\n    <tr>\n      <th>453</th>\n      <td>3</td>\n      <td>5952</td>\n      <td>4.0</td>\n      <td>1439472616</td>\n      <td>Lord of the Rings: The Two Towers, The (2002)</td>\n      <td>Adventure|Fantasy</td>\n    </tr>\n    <tr>\n      <th>972</th>\n      <td>4</td>\n      <td>5952</td>\n      <td>4.5</td>\n      <td>1574193472</td>\n      <td>Lord of the Rings: The Two Towers, The (2002)</td>\n      <td>Adventure|Fantasy</td>\n    </tr>\n    <tr>\n      <th>2636</th>\n      <td>13</td>\n      <td>5952</td>\n      <td>4.5</td>\n      <td>1237970978</td>\n      <td>Lord of the Rings: The Two Towers, The (2002)</td>\n      <td>Adventure|Fantasy</td>\n    </tr>\n    <tr>\n      <th>...</th>\n      <td>...</td>\n      <td>...</td>\n      <td>...</td>\n      <td>...</td>\n      <td>...</td>\n      <td>...</td>\n    </tr>\n    <tr>\n      <th>24998468</th>\n      <td>162532</td>\n      <td>5952</td>\n      <td>5.0</td>\n      <td>1418000735</td>\n      <td>Lord of the Rings: The Two Towers, The (2002)</td>\n      <td>Adventure|Fantasy</td>\n    </tr>\n    <tr>\n      <th>24998762</th>\n      <td>162533</td>\n      <td>5952</td>\n      <td>5.0</td>\n      <td>1281406073</td>\n      <td>Lord of the Rings: The Two Towers, The (2002)</td>\n      <td>Adventure|Fantasy</td>\n    </tr>\n    <tr>\n      <th>24999074</th>\n      <td>162534</td>\n      <td>5952</td>\n      <td>3.0</td>\n      <td>1527428422</td>\n      <td>Lord of the Rings: The Two Towers, The (2002)</td>\n      <td>Adventure|Fantasy</td>\n    </tr>\n    <tr>\n      <th>24999701</th>\n      <td>162538</td>\n      <td>5952</td>\n      <td>4.0</td>\n      <td>1438781110</td>\n      <td>Lord of the Rings: The Two Towers, The (2002)</td>\n      <td>Adventure|Fantasy</td>\n    </tr>\n    <tr>\n      <th>25000065</th>\n      <td>162541</td>\n      <td>5952</td>\n      <td>5.0</td>\n      <td>1240952617</td>\n      <td>Lord of the Rings: The Two Towers, The (2002)</td>\n      <td>Adventure|Fantasy</td>\n    </tr>\n  </tbody>\n</table>\n<p>51138 rows × 6 columns</p>\n</div>"
     },
     "execution_count": 11,
     "metadata": {},
     "output_type": "execute_result"
    }
   ],
   "source": [
    "# by movie\n",
    "\n",
    "user_rating_movie_details_df.query(\"movieId==5952\").sort_values(by=[\"userId\", \"timestamp\"], ascending=True)"
   ],
   "metadata": {
    "collapsed": false,
    "ExecuteTime": {
     "end_time": "2023-07-28T08:43:44.138483838Z",
     "start_time": "2023-07-28T08:43:43.976636026Z"
    }
   }
  },
  {
   "cell_type": "code",
   "execution_count": 12,
   "outputs": [
    {
     "data": {
      "text/plain": "        movieId\nuserId         \n72315     32202\n80974      9178\n137293     8913\n33844      7919\n20055      7488\n...         ...\n12094        20\n119539       20\n156759       20\n12084        20\n36207        20\n\n[162541 rows x 1 columns]",
      "text/html": "<div>\n<style scoped>\n    .dataframe tbody tr th:only-of-type {\n        vertical-align: middle;\n    }\n\n    .dataframe tbody tr th {\n        vertical-align: top;\n    }\n\n    .dataframe thead th {\n        text-align: right;\n    }\n</style>\n<table border=\"1\" class=\"dataframe\">\n  <thead>\n    <tr style=\"text-align: right;\">\n      <th></th>\n      <th>movieId</th>\n    </tr>\n    <tr>\n      <th>userId</th>\n      <th></th>\n    </tr>\n  </thead>\n  <tbody>\n    <tr>\n      <th>72315</th>\n      <td>32202</td>\n    </tr>\n    <tr>\n      <th>80974</th>\n      <td>9178</td>\n    </tr>\n    <tr>\n      <th>137293</th>\n      <td>8913</td>\n    </tr>\n    <tr>\n      <th>33844</th>\n      <td>7919</td>\n    </tr>\n    <tr>\n      <th>20055</th>\n      <td>7488</td>\n    </tr>\n    <tr>\n      <th>...</th>\n      <td>...</td>\n    </tr>\n    <tr>\n      <th>12094</th>\n      <td>20</td>\n    </tr>\n    <tr>\n      <th>119539</th>\n      <td>20</td>\n    </tr>\n    <tr>\n      <th>156759</th>\n      <td>20</td>\n    </tr>\n    <tr>\n      <th>12084</th>\n      <td>20</td>\n    </tr>\n    <tr>\n      <th>36207</th>\n      <td>20</td>\n    </tr>\n  </tbody>\n</table>\n<p>162541 rows × 1 columns</p>\n</div>"
     },
     "execution_count": 12,
     "metadata": {},
     "output_type": "execute_result"
    }
   ],
   "source": [
    "user_rating_movie_details_df[[\"userId\", \"movieId\"]].groupby(by=\"userId\").count().sort_values(by=\"movieId\", ascending=False)"
   ],
   "metadata": {
    "collapsed": false,
    "ExecuteTime": {
     "end_time": "2023-07-28T08:43:44.348517533Z",
     "start_time": "2023-07-28T08:43:44.135446680Z"
    }
   }
  },
  {
   "cell_type": "markdown",
   "source": [
    "# Build a dataset\n",
    "I need to build a rating matrix Y with a row per movie and column per each user's rating.\n",
    "\n",
    "And another R matrix that will indicate if the user has given a rating to that moview(1) or not(0)\n",
    "\n",
    "For that to avoid having a super big matrix I will chose the first 10000 movies first"
   ],
   "metadata": {
    "collapsed": false
   }
  },
  {
   "cell_type": "code",
   "execution_count": 13,
   "outputs": [
    {
     "name": "stderr",
     "output_type": "stream",
     "text": [
      "/tmp/ipykernel_3357/2651256587.py:11: UserWarning: Boolean Series key will be reindexed to match DataFrame index.\n",
      "  rating_from_sampled_movies_df = rating_from_sampled_movies_df[users_rating_df.userId.isin(sampled_users_id)]\n"
     ]
    }
   ],
   "source": [
    "# get all movies ids\n",
    "all_movies_ids = users_rating_df.movieId.unique()\n",
    "\n",
    "# choose the first 5000\n",
    "sampled_movies_ids = all_movies_ids[:5000]\n",
    "# keep all user's rating for the fist 5000 movies\n",
    "rating_from_sampled_movies_df = users_rating_df[users_rating_df.movieId.isin(sampled_movies_ids)]\n",
    "\n",
    "#First 500 users\n",
    "sampled_users_id = rating_from_sampled_movies_df.userId.unique()[:500]\n",
    "rating_from_sampled_movies_df = rating_from_sampled_movies_df[users_rating_df.userId.isin(sampled_users_id)]"
   ],
   "metadata": {
    "collapsed": false,
    "ExecuteTime": {
     "end_time": "2023-07-28T08:43:45.698438648Z",
     "start_time": "2023-07-28T08:43:44.348731044Z"
    }
   }
  },
  {
   "cell_type": "code",
   "execution_count": 14,
   "outputs": [
    {
     "data": {
      "text/plain": "   userId  movieId  rating   timestamp\n0       1      296     5.0  1147880044\n1       1      306     3.5  1147868817\n2       1      307     5.0  1147868828\n3       1      665     5.0  1147878820\n4       1      899     3.5  1147868510",
      "text/html": "<div>\n<style scoped>\n    .dataframe tbody tr th:only-of-type {\n        vertical-align: middle;\n    }\n\n    .dataframe tbody tr th {\n        vertical-align: top;\n    }\n\n    .dataframe thead th {\n        text-align: right;\n    }\n</style>\n<table border=\"1\" class=\"dataframe\">\n  <thead>\n    <tr style=\"text-align: right;\">\n      <th></th>\n      <th>userId</th>\n      <th>movieId</th>\n      <th>rating</th>\n      <th>timestamp</th>\n    </tr>\n  </thead>\n  <tbody>\n    <tr>\n      <th>0</th>\n      <td>1</td>\n      <td>296</td>\n      <td>5.0</td>\n      <td>1147880044</td>\n    </tr>\n    <tr>\n      <th>1</th>\n      <td>1</td>\n      <td>306</td>\n      <td>3.5</td>\n      <td>1147868817</td>\n    </tr>\n    <tr>\n      <th>2</th>\n      <td>1</td>\n      <td>307</td>\n      <td>5.0</td>\n      <td>1147868828</td>\n    </tr>\n    <tr>\n      <th>3</th>\n      <td>1</td>\n      <td>665</td>\n      <td>5.0</td>\n      <td>1147878820</td>\n    </tr>\n    <tr>\n      <th>4</th>\n      <td>1</td>\n      <td>899</td>\n      <td>3.5</td>\n      <td>1147868510</td>\n    </tr>\n  </tbody>\n</table>\n</div>"
     },
     "execution_count": 14,
     "metadata": {},
     "output_type": "execute_result"
    }
   ],
   "source": [
    "rating_from_sampled_movies_df.head()"
   ],
   "metadata": {
    "collapsed": false,
    "ExecuteTime": {
     "end_time": "2023-07-28T08:43:45.707697265Z",
     "start_time": "2023-07-28T08:43:45.703935122Z"
    }
   }
  },
  {
   "cell_type": "code",
   "execution_count": 15,
   "outputs": [],
   "source": [
    "sampled_users_id = rating_from_sampled_movies_df.userId.unique()"
   ],
   "metadata": {
    "collapsed": false,
    "ExecuteTime": {
     "end_time": "2023-07-28T08:43:45.710743785Z",
     "start_time": "2023-07-28T08:43:45.706858737Z"
    }
   }
  },
  {
   "cell_type": "code",
   "execution_count": 16,
   "outputs": [],
   "source": [
    "sampled_movies_ids = rating_from_sampled_movies_df.movieId.unique()"
   ],
   "metadata": {
    "collapsed": false,
    "ExecuteTime": {
     "end_time": "2023-07-28T08:43:45.714381482Z",
     "start_time": "2023-07-28T08:43:45.712330076Z"
    }
   }
  },
  {
   "cell_type": "code",
   "execution_count": 17,
   "outputs": [],
   "source": [
    "Nu = sampled_users_id.shape[0]\n",
    "Nm = sampled_movies_ids.shape[0]"
   ],
   "metadata": {
    "collapsed": false,
    "ExecuteTime": {
     "end_time": "2023-07-28T08:43:45.717335615Z",
     "start_time": "2023-07-28T08:43:45.715226822Z"
    }
   }
  },
  {
   "cell_type": "code",
   "execution_count": 18,
   "outputs": [
    {
     "name": "stdout",
     "output_type": "stream",
     "text": [
      "Users: 500 - Movies:5000\n"
     ]
    }
   ],
   "source": [
    "print(f\"Users: {Nu} - Movies:{Nm}\")"
   ],
   "metadata": {
    "collapsed": false,
    "ExecuteTime": {
     "end_time": "2023-07-28T08:43:45.774690661Z",
     "start_time": "2023-07-28T08:43:45.760271853Z"
    }
   }
  },
  {
   "cell_type": "markdown",
   "source": [
    "# movies features"
   ],
   "metadata": {
    "collapsed": false
   }
  },
  {
   "cell_type": "code",
   "execution_count": 19,
   "outputs": [],
   "source": [
    "all_sampled_movies = movies_df[movies_df.movieId.isin(sampled_movies_ids)]"
   ],
   "metadata": {
    "collapsed": false,
    "ExecuteTime": {
     "end_time": "2023-07-28T08:43:45.774892880Z",
     "start_time": "2023-07-28T08:43:45.760531691Z"
    }
   }
  },
  {
   "cell_type": "code",
   "execution_count": 20,
   "outputs": [
    {
     "name": "stderr",
     "output_type": "stream",
     "text": [
      "/tmp/ipykernel_3357/1711463164.py:1: SettingWithCopyWarning: \n",
      "A value is trying to be set on a copy of a slice from a DataFrame.\n",
      "Try using .loc[row_indexer,col_indexer] = value instead\n",
      "\n",
      "See the caveats in the documentation: https://pandas.pydata.org/pandas-docs/stable/user_guide/indexing.html#returning-a-view-versus-a-copy\n",
      "  all_sampled_movies[\"genres_array\"] = all_sampled_movies.genres.str.split(\"|\")\n"
     ]
    }
   ],
   "source": [
    "all_sampled_movies[\"genres_array\"] = all_sampled_movies.genres.str.split(\"|\")"
   ],
   "metadata": {
    "collapsed": false,
    "ExecuteTime": {
     "end_time": "2023-07-28T08:43:45.775128143Z",
     "start_time": "2023-07-28T08:43:45.760682617Z"
    }
   }
  },
  {
   "cell_type": "code",
   "execution_count": 21,
   "outputs": [],
   "source": [
    "# get all the genres\n",
    "def get_all_genres(movies_df):\n",
    "    genres = []\n",
    "\n",
    "    for _, movie_row in movies_df.iterrows():\n",
    "        for genre in movie_row.genres_array:\n",
    "            if genre not in genres:\n",
    "                genres.append(genre)\n",
    "\n",
    "    return genres"
   ],
   "metadata": {
    "collapsed": false,
    "ExecuteTime": {
     "end_time": "2023-07-28T08:43:45.775253027Z",
     "start_time": "2023-07-28T08:43:45.760798016Z"
    }
   }
  },
  {
   "cell_type": "code",
   "execution_count": 22,
   "outputs": [],
   "source": [
    "genres = get_all_genres(all_sampled_movies)"
   ],
   "metadata": {
    "collapsed": false,
    "ExecuteTime": {
     "end_time": "2023-07-28T08:43:45.950575458Z",
     "start_time": "2023-07-28T08:43:45.760901007Z"
    }
   }
  },
  {
   "cell_type": "code",
   "execution_count": 23,
   "outputs": [
    {
     "data": {
      "text/plain": "['Adventure',\n 'Animation',\n 'Children',\n 'Comedy',\n 'Fantasy',\n 'Romance',\n 'Drama',\n 'Action',\n 'Crime',\n 'Thriller',\n 'Horror',\n 'Mystery',\n 'Sci-Fi',\n 'War',\n 'Musical',\n 'Documentary',\n 'IMAX',\n 'Western',\n 'Film-Noir',\n '(no genres listed)']"
     },
     "execution_count": 23,
     "metadata": {},
     "output_type": "execute_result"
    }
   ],
   "source": [
    "genres"
   ],
   "metadata": {
    "collapsed": false,
    "ExecuteTime": {
     "end_time": "2023-07-28T08:43:45.992542131Z",
     "start_time": "2023-07-28T08:43:45.948536408Z"
    }
   }
  },
  {
   "cell_type": "code",
   "execution_count": 24,
   "outputs": [],
   "source": [
    "# build dataset movies features\n",
    "gender_to_categorical_dict = dict(zip(genres, range(len(genres))))\n",
    "\n",
    "def get_one_hot_movies_genre(movies_df, gender_to_categorical_dict, genres):\n",
    "    Nm = movies_df.shape[0]\n",
    "    movie_index_to_id = {}\n",
    "    one_hot_movies_genre = np.zeros((Nm, len(genres)), dtype=\"float16\")\n",
    "    for index, row in enumerate(movies_df.iterrows()):\n",
    "        df_index, movie_row = row\n",
    "        movie_index_to_id[movie_row.movieId] = index\n",
    "        for genre in movie_row.genres_array:\n",
    "            one_hot_movies_genre[index, gender_to_categorical_dict[genre]] = 1\n",
    "    return one_hot_movies_genre, movie_index_to_id"
   ],
   "metadata": {
    "collapsed": false,
    "ExecuteTime": {
     "end_time": "2023-07-28T08:43:45.994791302Z",
     "start_time": "2023-07-28T08:43:45.992690268Z"
    }
   }
  },
  {
   "cell_type": "code",
   "execution_count": 25,
   "outputs": [],
   "source": [
    "movies_features, movie_dict = get_one_hot_movies_genre(all_sampled_movies, gender_to_categorical_dict, genres)"
   ],
   "metadata": {
    "collapsed": false,
    "ExecuteTime": {
     "end_time": "2023-07-28T08:43:46.188925650Z",
     "start_time": "2023-07-28T08:43:45.992832473Z"
    }
   }
  },
  {
   "cell_type": "code",
   "execution_count": 26,
   "outputs": [
    {
     "data": {
      "text/plain": "array([1., 1., 1., 1., 1., 0., 0., 0., 0., 0., 0., 0., 0., 0., 0., 0., 0.,\n       0., 0., 0.], dtype=float16)"
     },
     "execution_count": 26,
     "metadata": {},
     "output_type": "execute_result"
    }
   ],
   "source": [
    "movies_features[0]"
   ],
   "metadata": {
    "collapsed": false,
    "ExecuteTime": {
     "end_time": "2023-07-28T08:43:46.232896175Z",
     "start_time": "2023-07-28T08:43:46.190451865Z"
    }
   }
  },
  {
   "cell_type": "code",
   "execution_count": 27,
   "outputs": [
    {
     "data": {
      "text/plain": "'Adventure|Animation|Children|Comedy|Fantasy'"
     },
     "execution_count": 27,
     "metadata": {},
     "output_type": "execute_result"
    }
   ],
   "source": [
    "all_sampled_movies.iloc[0].genres"
   ],
   "metadata": {
    "collapsed": false,
    "ExecuteTime": {
     "end_time": "2023-07-28T08:43:46.233311697Z",
     "start_time": "2023-07-28T08:43:46.232623129Z"
    }
   }
  },
  {
   "cell_type": "markdown",
   "source": [
    "# User features"
   ],
   "metadata": {
    "collapsed": false
   }
  },
  {
   "cell_type": "code",
   "execution_count": 28,
   "outputs": [],
   "source": [
    "user_dict = dict(zip(sampled_users_id, range(sampled_users_id.shape[0])))"
   ],
   "metadata": {
    "collapsed": false,
    "ExecuteTime": {
     "end_time": "2023-07-28T08:43:46.233483031Z",
     "start_time": "2023-07-28T08:43:46.233127548Z"
    }
   }
  },
  {
   "cell_type": "code",
   "execution_count": 29,
   "outputs": [
    {
     "data": {
      "text/plain": "   userId  movieId  rating   timestamp\n0       1      296     5.0  1147880044\n1       1      306     3.5  1147868817\n2       1      307     5.0  1147868828\n3       1      665     5.0  1147878820\n4       1      899     3.5  1147868510",
      "text/html": "<div>\n<style scoped>\n    .dataframe tbody tr th:only-of-type {\n        vertical-align: middle;\n    }\n\n    .dataframe tbody tr th {\n        vertical-align: top;\n    }\n\n    .dataframe thead th {\n        text-align: right;\n    }\n</style>\n<table border=\"1\" class=\"dataframe\">\n  <thead>\n    <tr style=\"text-align: right;\">\n      <th></th>\n      <th>userId</th>\n      <th>movieId</th>\n      <th>rating</th>\n      <th>timestamp</th>\n    </tr>\n  </thead>\n  <tbody>\n    <tr>\n      <th>0</th>\n      <td>1</td>\n      <td>296</td>\n      <td>5.0</td>\n      <td>1147880044</td>\n    </tr>\n    <tr>\n      <th>1</th>\n      <td>1</td>\n      <td>306</td>\n      <td>3.5</td>\n      <td>1147868817</td>\n    </tr>\n    <tr>\n      <th>2</th>\n      <td>1</td>\n      <td>307</td>\n      <td>5.0</td>\n      <td>1147868828</td>\n    </tr>\n    <tr>\n      <th>3</th>\n      <td>1</td>\n      <td>665</td>\n      <td>5.0</td>\n      <td>1147878820</td>\n    </tr>\n    <tr>\n      <th>4</th>\n      <td>1</td>\n      <td>899</td>\n      <td>3.5</td>\n      <td>1147868510</td>\n    </tr>\n  </tbody>\n</table>\n</div>"
     },
     "execution_count": 29,
     "metadata": {},
     "output_type": "execute_result"
    }
   ],
   "source": [
    "rating_from_sampled_movies_df.head()"
   ],
   "metadata": {
    "collapsed": false,
    "ExecuteTime": {
     "end_time": "2023-07-28T08:43:46.233715633Z",
     "start_time": "2023-07-28T08:43:46.233406826Z"
    }
   }
  },
  {
   "cell_type": "code",
   "execution_count": 30,
   "outputs": [],
   "source": [
    "user_features = np.zeros((Nu, len(genres)))\n",
    "\n",
    "for index, row in enumerate(rating_from_sampled_movies_df.iterrows()):\n",
    "    _, user_row = row\n",
    "    user_index = user_dict[user_row.userId]\n",
    "    movie_index = movie_dict[user_row.movieId]\n",
    "    user_features[user_index] += movies_features[movie_index]"
   ],
   "metadata": {
    "collapsed": false,
    "ExecuteTime": {
     "end_time": "2023-07-28T08:43:48.706803810Z",
     "start_time": "2023-07-28T08:43:46.440849177Z"
    }
   }
  },
  {
   "cell_type": "code",
   "execution_count": 31,
   "outputs": [],
   "source": [
    "user_dataset = []\n",
    "movie_dataset = []\n",
    "Y = []\n",
    "\n",
    "for index, row in enumerate(rating_from_sampled_movies_df.iterrows()):\n",
    "    _, user_row = row\n",
    "    user_index = user_dict[user_row.userId]\n",
    "    movie_index = movie_dict[user_row.movieId]\n",
    "    user_dataset.append(user_features[user_index])\n",
    "    movie_dataset.append(movies_features[movie_index])\n",
    "    Y.append(user_row.rating)"
   ],
   "metadata": {
    "collapsed": false,
    "ExecuteTime": {
     "end_time": "2023-07-28T08:43:50.961299764Z",
     "start_time": "2023-07-28T08:43:48.708129244Z"
    }
   }
  },
  {
   "cell_type": "code",
   "execution_count": 32,
   "outputs": [
    {
     "data": {
      "text/plain": "59768"
     },
     "execution_count": 32,
     "metadata": {},
     "output_type": "execute_result"
    }
   ],
   "source": [
    "len(user_dataset)"
   ],
   "metadata": {
    "collapsed": false,
    "ExecuteTime": {
     "end_time": "2023-07-28T08:43:51.023339480Z",
     "start_time": "2023-07-28T08:43:50.963586145Z"
    }
   }
  },
  {
   "cell_type": "code",
   "execution_count": 33,
   "outputs": [
    {
     "data": {
      "text/plain": "59768"
     },
     "execution_count": 33,
     "metadata": {},
     "output_type": "execute_result"
    }
   ],
   "source": [
    "len(movie_dataset)"
   ],
   "metadata": {
    "collapsed": false,
    "ExecuteTime": {
     "end_time": "2023-07-28T08:43:51.023649501Z",
     "start_time": "2023-07-28T08:43:51.004297644Z"
    }
   }
  },
  {
   "cell_type": "code",
   "execution_count": 34,
   "outputs": [],
   "source": [
    "user_dataset = np.array(user_dataset, dtype=\"float32\")\n",
    "movie_dataset = np.array(movie_dataset, dtype=\"float32\")\n",
    "Y = np.array(Y, dtype=\"float16\")"
   ],
   "metadata": {
    "collapsed": false,
    "ExecuteTime": {
     "end_time": "2023-07-28T08:43:51.060527286Z",
     "start_time": "2023-07-28T08:43:51.004582106Z"
    }
   }
  },
  {
   "cell_type": "markdown",
   "source": [
    "# Split train, val and test set"
   ],
   "metadata": {
    "collapsed": false
   }
  },
  {
   "cell_type": "code",
   "execution_count": 35,
   "outputs": [
    {
     "name": "stdout",
     "output_type": "stream",
     "text": [
      "Train N: (41838,), Val N:(8966,), Test:(8964,)\n"
     ]
    }
   ],
   "source": [
    "# 70% for training\n",
    "N = Y.shape[0]\n",
    "\n",
    "n_train = math.ceil(N*0.7)\n",
    "n_val = math.ceil(N*0.15)\n",
    "n_test = N-n_train-n_val\n",
    "\n",
    "np.random.RandomState(42).shuffle(Y)\n",
    "np.random.RandomState(42).shuffle(user_dataset)\n",
    "np.random.RandomState(42).shuffle(movie_dataset)\n",
    "\n",
    "Y_train = Y[:n_train]\n",
    "Y_val = Y[n_train:n_train+n_val]\n",
    "Y_test = Y[n_train+n_val:]\n",
    "\n",
    "user_train = user_dataset[:n_train]\n",
    "user_val = user_dataset[n_train:n_train+n_val]\n",
    "user_test = user_dataset[n_train+n_val:]\n",
    "\n",
    "movie_train = movie_dataset[:n_train]\n",
    "movie_val = movie_dataset[n_train:n_train+n_val]\n",
    "movie_test = movie_dataset[n_train+n_val:]\n",
    "\n",
    "print(f\"Train N: {Y_train.shape}, Val N:{Y_val.shape}, Test:{Y_test.shape}\")"
   ],
   "metadata": {
    "collapsed": false,
    "ExecuteTime": {
     "end_time": "2023-07-28T08:43:51.111076460Z",
     "start_time": "2023-07-28T08:43:51.048138449Z"
    }
   }
  },
  {
   "cell_type": "markdown",
   "source": [
    "# Content filtering"
   ],
   "metadata": {
    "collapsed": false
   }
  },
  {
   "cell_type": "markdown",
   "source": [
    "# Scale min max"
   ],
   "metadata": {
    "collapsed": false
   }
  },
  {
   "cell_type": "code",
   "execution_count": 36,
   "outputs": [],
   "source": [
    "min = user_train.min(axis=0)\n",
    "max = user_train.max(axis=0)"
   ],
   "metadata": {
    "collapsed": false,
    "ExecuteTime": {
     "end_time": "2023-07-28T08:43:51.111273998Z",
     "start_time": "2023-07-28T08:43:51.093103018Z"
    }
   }
  },
  {
   "cell_type": "code",
   "execution_count": 37,
   "outputs": [],
   "source": [
    "user_train-=min\n",
    "user_train /=(max-min)"
   ],
   "metadata": {
    "collapsed": false,
    "ExecuteTime": {
     "end_time": "2023-07-28T08:43:51.111451173Z",
     "start_time": "2023-07-28T08:43:51.098036729Z"
    }
   }
  },
  {
   "cell_type": "code",
   "execution_count": 38,
   "outputs": [],
   "source": [
    "user_val-=min\n",
    "user_val/=(max-min)\n",
    "\n",
    "user_test-=min\n",
    "user_test/=(max-min)"
   ],
   "metadata": {
    "collapsed": false,
    "ExecuteTime": {
     "end_time": "2023-07-28T08:43:51.111602007Z",
     "start_time": "2023-07-28T08:43:51.102068226Z"
    }
   }
  },
  {
   "cell_type": "markdown",
   "source": [
    "# build dataset"
   ],
   "metadata": {
    "collapsed": false
   }
  },
  {
   "cell_type": "code",
   "execution_count": 39,
   "outputs": [
    {
     "name": "stderr",
     "output_type": "stream",
     "text": [
      "2023-07-28 10:43:51.199995: I tensorflow/stream_executor/cuda/cuda_gpu_executor.cc:980] successful NUMA node read from SysFS had negative value (-1), but there must be at least one NUMA node, so returning NUMA node zero\n",
      "2023-07-28 10:43:51.240113: I tensorflow/stream_executor/cuda/cuda_gpu_executor.cc:980] successful NUMA node read from SysFS had negative value (-1), but there must be at least one NUMA node, so returning NUMA node zero\n",
      "2023-07-28 10:43:51.240409: I tensorflow/stream_executor/cuda/cuda_gpu_executor.cc:980] successful NUMA node read from SysFS had negative value (-1), but there must be at least one NUMA node, so returning NUMA node zero\n",
      "2023-07-28 10:43:51.242580: I tensorflow/core/platform/cpu_feature_guard.cc:193] This TensorFlow binary is optimized with oneAPI Deep Neural Network Library (oneDNN) to use the following CPU instructions in performance-critical operations:  AVX2 FMA\n",
      "To enable them in other operations, rebuild TensorFlow with the appropriate compiler flags.\n",
      "2023-07-28 10:43:51.243007: I tensorflow/stream_executor/cuda/cuda_gpu_executor.cc:980] successful NUMA node read from SysFS had negative value (-1), but there must be at least one NUMA node, so returning NUMA node zero\n",
      "2023-07-28 10:43:51.243297: I tensorflow/stream_executor/cuda/cuda_gpu_executor.cc:980] successful NUMA node read from SysFS had negative value (-1), but there must be at least one NUMA node, so returning NUMA node zero\n",
      "2023-07-28 10:43:51.243558: I tensorflow/stream_executor/cuda/cuda_gpu_executor.cc:980] successful NUMA node read from SysFS had negative value (-1), but there must be at least one NUMA node, so returning NUMA node zero\n",
      "2023-07-28 10:43:51.643135: I tensorflow/stream_executor/cuda/cuda_gpu_executor.cc:980] successful NUMA node read from SysFS had negative value (-1), but there must be at least one NUMA node, so returning NUMA node zero\n",
      "2023-07-28 10:43:51.646848: I tensorflow/stream_executor/cuda/cuda_gpu_executor.cc:980] successful NUMA node read from SysFS had negative value (-1), but there must be at least one NUMA node, so returning NUMA node zero\n",
      "2023-07-28 10:43:51.647100: I tensorflow/stream_executor/cuda/cuda_gpu_executor.cc:980] successful NUMA node read from SysFS had negative value (-1), but there must be at least one NUMA node, so returning NUMA node zero\n",
      "2023-07-28 10:43:51.647325: I tensorflow/core/common_runtime/gpu/gpu_device.cc:1616] Created device /job:localhost/replica:0/task:0/device:GPU:0 with 5421 MB memory:  -> device: 0, name: GeForce RTX 2080 SUPER, pci bus id: 0000:01:00.0, compute capability: 7.5\n"
     ]
    }
   ],
   "source": [
    "train_dataset = tf.data.Dataset.from_tensor_slices(((user_train, movie_train), Y_train)).shuffle(512).batch(256).prefetch(tf.data.AUTOTUNE)\n",
    "val_dataset = tf.data.Dataset.from_tensor_slices(((user_val, movie_val), Y_val)).batch(128).prefetch(tf.data.AUTOTUNE)"
   ],
   "metadata": {
    "collapsed": false,
    "ExecuteTime": {
     "end_time": "2023-07-28T08:43:51.729173017Z",
     "start_time": "2023-07-28T08:43:51.242146662Z"
    }
   }
  },
  {
   "cell_type": "markdown",
   "source": [
    "# algorithm!"
   ],
   "metadata": {
    "collapsed": false
   }
  },
  {
   "cell_type": "code",
   "execution_count": 40,
   "outputs": [],
   "source": [
    "X_input_user = tf.keras.Input(shape=(20,), name=\"user_input\")\n",
    "X_input_movie = tf.keras.Input(shape=(20,), name=\"movie_input\")\n",
    "\n",
    "user_model = tf.keras.Sequential([tf.keras.layers.Dense(units=128, activation=\"relu\"),\n",
    "                                   tf.keras.layers.Dense(units=64, activation=\"relu\"),\n",
    "                                   tf.keras.layers.Dense(units=32, activation=\"relu\")])\n",
    "\n",
    "movie_model = tf.keras.Sequential([tf.keras.layers.Dense(units=128, activation=\"relu\"),\n",
    "                                   tf.keras.layers.Dense(units=64, activation=\"relu\"),\n",
    "                                   tf.keras.layers.Dense(units=32, activation=\"relu\")])\n",
    "\n",
    "X_user_features = user_model(X_input_user)\n",
    "X_movie_features = movie_model(X_input_movie)\n",
    "\n",
    "# concat = tf.keras.layers.Concatenate()([X_user_features, X_movie_features])\n",
    "multiply = tf.keras.layers.Multiply()([X_user_features, X_movie_features])\n",
    "\n",
    "# attention = tf.keras.layers.MultiHeadAttention(key_dim=32, num_heads=4)\n",
    "# user_features_attention_on_movies_features = attention(X_user_features, X_movie_features, X_movie_features)\n",
    "\n",
    "# proy = tf.keras.Sequential([tf.keras.layers.Dense(units=32, activation=\"relu\"),\n",
    "#                             tf.keras.layers.Dense(units=16, activation=\"relu\"),\n",
    "#                             tf.keras.layers.Dense(units=8, activation=\"relu\")])\n",
    "\n",
    "# concat_proy = proy(user_features_attention_on_movies_features)\n",
    "# concat_proy = proy(concat)\n",
    "# concat_proy = proy(multiply)\n",
    "\n",
    "rating = tf.keras.layers.Dense(units=1)(multiply)\n",
    "\n",
    "model = tf.keras.Model(inputs=[X_input_user, X_input_movie], outputs=[rating])"
   ],
   "metadata": {
    "collapsed": false,
    "ExecuteTime": {
     "end_time": "2023-07-28T08:43:51.819333019Z",
     "start_time": "2023-07-28T08:43:51.738059055Z"
    }
   }
  },
  {
   "cell_type": "code",
   "execution_count": 46,
   "outputs": [],
   "source": [
    "X_input_user = tf.keras.Input(shape=(20,), name=\"user_input\")\n",
    "X_input_movie = tf.keras.Input(shape=(20,), name=\"movie_input\")\n",
    "\n",
    "user_model = tf.keras.Sequential([tf.keras.layers.Dense(units=128, activation=\"relu\"),\n",
    "                                   tf.keras.layers.Dense(units=64, activation=\"relu\"),\n",
    "                                   tf.keras.layers.Dense(units=32)])\n",
    "\n",
    "movie_model = tf.keras.Sequential([tf.keras.layers.Dense(units=128, activation=\"relu\"),\n",
    "                                   tf.keras.layers.Dense(units=64, activation=\"relu\"),\n",
    "                                   tf.keras.layers.Dense(units=32)])\n",
    "\n",
    "X_user_features = user_model(X_input_user)\n",
    "X_user_features = tf.linalg.l2_normalize(X_user_features)\n",
    "\n",
    "X_movie_features = movie_model(X_input_movie)\n",
    "X_movie_features = tf.linalg.l2_normalize(X_movie_features)\n",
    "\n",
    "rating = tf.keras.layers.Dot(axes=(1, 1))([X_user_features, X_movie_features])\n",
    "\n",
    "model = tf.keras.Model(inputs=[X_input_user, X_input_movie], outputs=[rating])"
   ],
   "metadata": {
    "collapsed": false,
    "ExecuteTime": {
     "end_time": "2023-07-28T08:48:04.110632978Z",
     "start_time": "2023-07-28T08:48:04.028735788Z"
    }
   }
  },
  {
   "cell_type": "code",
   "execution_count": 47,
   "outputs": [
    {
     "name": "stdout",
     "output_type": "stream",
     "text": [
      "Model: \"model_2\"\n",
      "__________________________________________________________________________________________________\n",
      " Layer (type)                   Output Shape         Param #     Connected to                     \n",
      "==================================================================================================\n",
      " user_input (InputLayer)        [(None, 20)]         0           []                               \n",
      "                                                                                                  \n",
      " movie_input (InputLayer)       [(None, 20)]         0           []                               \n",
      "                                                                                                  \n",
      " sequential_10 (Sequential)     (None, 32)           13024       ['user_input[0][0]']             \n",
      "                                                                                                  \n",
      " sequential_11 (Sequential)     (None, 32)           13024       ['movie_input[0][0]']            \n",
      "                                                                                                  \n",
      " tf.math.l2_normalize (TFOpLamb  (None, 32)          0           ['sequential_10[0][0]']          \n",
      " da)                                                                                              \n",
      "                                                                                                  \n",
      " tf.math.l2_normalize_1 (TFOpLa  (None, 32)          0           ['sequential_11[0][0]']          \n",
      " mbda)                                                                                            \n",
      "                                                                                                  \n",
      " dot_3 (Dot)                    (None, 1)            0           ['tf.math.l2_normalize[0][0]',   \n",
      "                                                                  'tf.math.l2_normalize_1[0][0]'] \n",
      "                                                                                                  \n",
      "==================================================================================================\n",
      "Total params: 26,048\n",
      "Trainable params: 26,048\n",
      "Non-trainable params: 0\n",
      "__________________________________________________________________________________________________\n"
     ]
    }
   ],
   "source": [
    "model.summary()"
   ],
   "metadata": {
    "collapsed": false,
    "ExecuteTime": {
     "end_time": "2023-07-28T08:48:04.978499770Z",
     "start_time": "2023-07-28T08:48:04.932941325Z"
    }
   }
  },
  {
   "cell_type": "code",
   "execution_count": 48,
   "outputs": [],
   "source": [
    "model.compile(loss=tf.keras.losses.MeanSquaredError(), optimizer=tf.keras.optimizers.Adam(learning_rate=1e-4), metrics=tf.keras.metrics.MeanAbsoluteError())"
   ],
   "metadata": {
    "collapsed": false,
    "ExecuteTime": {
     "end_time": "2023-07-28T08:48:07.788731343Z",
     "start_time": "2023-07-28T08:48:07.773102301Z"
    }
   }
  },
  {
   "cell_type": "code",
   "execution_count": 49,
   "outputs": [],
   "source": [
    "early_stop = tf.keras.callbacks.EarlyStopping(monitor=\"val_loss\", patience=5)\n",
    "checkpoint = tf.keras.callbacks.ModelCheckpoint(filepath=\"best_model_checkpoint.h5\", save_best_only=True, save_weights_only=True)"
   ],
   "metadata": {
    "collapsed": false,
    "ExecuteTime": {
     "end_time": "2023-07-28T08:48:10.122852723Z",
     "start_time": "2023-07-28T08:48:10.117016442Z"
    }
   }
  },
  {
   "cell_type": "code",
   "execution_count": 50,
   "outputs": [
    {
     "name": "stdout",
     "output_type": "stream",
     "text": [
      "Epoch 1/200\n",
      "164/164 [==============================] - 2s 3ms/step - loss: 14.0825 - mean_absolute_error: 3.6013 - val_loss: 13.9589 - val_mean_absolute_error: 3.5854\n",
      "Epoch 2/200\n",
      "164/164 [==============================] - 0s 3ms/step - loss: 14.0742 - mean_absolute_error: 3.6002 - val_loss: 13.9525 - val_mean_absolute_error: 3.5846\n",
      "Epoch 3/200\n",
      "164/164 [==============================] - 0s 2ms/step - loss: 14.0726 - mean_absolute_error: 3.6000 - val_loss: 13.9511 - val_mean_absolute_error: 3.5844\n",
      "Epoch 4/200\n",
      "164/164 [==============================] - 0s 3ms/step - loss: 14.0722 - mean_absolute_error: 3.6000 - val_loss: 13.9506 - val_mean_absolute_error: 3.5844\n",
      "Epoch 5/200\n",
      "164/164 [==============================] - 0s 3ms/step - loss: 14.0720 - mean_absolute_error: 3.6000 - val_loss: 13.9503 - val_mean_absolute_error: 3.5843\n",
      "Epoch 6/200\n",
      "164/164 [==============================] - 0s 3ms/step - loss: 14.0719 - mean_absolute_error: 3.6000 - val_loss: 13.9501 - val_mean_absolute_error: 3.5843\n",
      "Epoch 7/200\n",
      "164/164 [==============================] - 0s 2ms/step - loss: 14.0718 - mean_absolute_error: 3.5999 - val_loss: 13.9500 - val_mean_absolute_error: 3.5843\n",
      "Epoch 8/200\n",
      "164/164 [==============================] - 0s 2ms/step - loss: 14.0718 - mean_absolute_error: 3.5999 - val_loss: 13.9499 - val_mean_absolute_error: 3.5843\n",
      "Epoch 9/200\n",
      "164/164 [==============================] - 0s 3ms/step - loss: 14.0717 - mean_absolute_error: 3.5999 - val_loss: 13.9498 - val_mean_absolute_error: 3.5843\n",
      "Epoch 10/200\n",
      "164/164 [==============================] - 0s 2ms/step - loss: 14.0717 - mean_absolute_error: 3.5999 - val_loss: 13.9498 - val_mean_absolute_error: 3.5843\n",
      "Epoch 11/200\n",
      "164/164 [==============================] - 0s 2ms/step - loss: 14.0717 - mean_absolute_error: 3.5999 - val_loss: 13.9497 - val_mean_absolute_error: 3.5843\n",
      "Epoch 12/200\n",
      "164/164 [==============================] - 0s 2ms/step - loss: 14.0716 - mean_absolute_error: 3.5999 - val_loss: 13.9497 - val_mean_absolute_error: 3.5843\n",
      "Epoch 13/200\n",
      "164/164 [==============================] - 0s 2ms/step - loss: 14.0716 - mean_absolute_error: 3.5999 - val_loss: 13.9497 - val_mean_absolute_error: 3.5843\n",
      "Epoch 14/200\n",
      "164/164 [==============================] - 0s 2ms/step - loss: 14.0716 - mean_absolute_error: 3.5999 - val_loss: 13.9496 - val_mean_absolute_error: 3.5843\n",
      "Epoch 15/200\n",
      "164/164 [==============================] - 0s 2ms/step - loss: 14.0716 - mean_absolute_error: 3.5999 - val_loss: 13.9496 - val_mean_absolute_error: 3.5843\n",
      "Epoch 16/200\n",
      "164/164 [==============================] - 0s 2ms/step - loss: 14.0716 - mean_absolute_error: 3.5999 - val_loss: 13.9496 - val_mean_absolute_error: 3.5843\n",
      "Epoch 17/200\n",
      "164/164 [==============================] - 0s 2ms/step - loss: 14.0716 - mean_absolute_error: 3.5999 - val_loss: 13.9496 - val_mean_absolute_error: 3.5843\n",
      "Epoch 18/200\n",
      "164/164 [==============================] - 0s 2ms/step - loss: 14.0716 - mean_absolute_error: 3.5999 - val_loss: 13.9496 - val_mean_absolute_error: 3.5843\n",
      "Epoch 19/200\n",
      "164/164 [==============================] - 0s 3ms/step - loss: 14.0716 - mean_absolute_error: 3.5999 - val_loss: 13.9496 - val_mean_absolute_error: 3.5843\n",
      "Epoch 20/200\n",
      "164/164 [==============================] - 0s 2ms/step - loss: 14.0716 - mean_absolute_error: 3.5999 - val_loss: 13.9495 - val_mean_absolute_error: 3.5843\n",
      "Epoch 21/200\n",
      "164/164 [==============================] - 0s 2ms/step - loss: 14.0716 - mean_absolute_error: 3.5999 - val_loss: 13.9495 - val_mean_absolute_error: 3.5843\n",
      "Epoch 22/200\n",
      "164/164 [==============================] - 0s 2ms/step - loss: 14.0716 - mean_absolute_error: 3.5999 - val_loss: 13.9495 - val_mean_absolute_error: 3.5843\n",
      "Epoch 23/200\n",
      "164/164 [==============================] - 0s 2ms/step - loss: 14.0715 - mean_absolute_error: 3.5999 - val_loss: 13.9495 - val_mean_absolute_error: 3.5843\n",
      "Epoch 24/200\n",
      "164/164 [==============================] - 0s 2ms/step - loss: 14.0715 - mean_absolute_error: 3.5999 - val_loss: 13.9495 - val_mean_absolute_error: 3.5843\n",
      "Epoch 25/200\n",
      "164/164 [==============================] - 0s 2ms/step - loss: 14.0715 - mean_absolute_error: 3.5999 - val_loss: 13.9495 - val_mean_absolute_error: 3.5843\n",
      "Epoch 26/200\n",
      "164/164 [==============================] - 0s 2ms/step - loss: 14.0715 - mean_absolute_error: 3.5999 - val_loss: 13.9495 - val_mean_absolute_error: 3.5843\n",
      "Epoch 27/200\n",
      "164/164 [==============================] - 0s 2ms/step - loss: 14.0715 - mean_absolute_error: 3.5999 - val_loss: 13.9495 - val_mean_absolute_error: 3.5843\n",
      "Epoch 28/200\n",
      "164/164 [==============================] - 0s 3ms/step - loss: 14.0715 - mean_absolute_error: 3.5999 - val_loss: 13.9495 - val_mean_absolute_error: 3.5843\n",
      "Epoch 29/200\n",
      "164/164 [==============================] - 0s 2ms/step - loss: 14.0715 - mean_absolute_error: 3.5999 - val_loss: 13.9495 - val_mean_absolute_error: 3.5843\n",
      "Epoch 30/200\n",
      "164/164 [==============================] - 0s 2ms/step - loss: 14.0715 - mean_absolute_error: 3.5999 - val_loss: 13.9495 - val_mean_absolute_error: 3.5843\n",
      "Epoch 31/200\n",
      "164/164 [==============================] - 0s 2ms/step - loss: 14.0715 - mean_absolute_error: 3.5999 - val_loss: 13.9495 - val_mean_absolute_error: 3.5843\n",
      "Epoch 32/200\n",
      "164/164 [==============================] - 0s 3ms/step - loss: 14.0715 - mean_absolute_error: 3.5999 - val_loss: 13.9495 - val_mean_absolute_error: 3.5843\n",
      "Epoch 33/200\n",
      "164/164 [==============================] - 0s 2ms/step - loss: 14.0715 - mean_absolute_error: 3.5999 - val_loss: 13.9495 - val_mean_absolute_error: 3.5843\n",
      "Epoch 34/200\n",
      "164/164 [==============================] - 0s 3ms/step - loss: 14.0715 - mean_absolute_error: 3.5999 - val_loss: 13.9495 - val_mean_absolute_error: 3.5843\n",
      "Epoch 35/200\n",
      "164/164 [==============================] - 0s 3ms/step - loss: 14.0715 - mean_absolute_error: 3.5999 - val_loss: 13.9494 - val_mean_absolute_error: 3.5843\n",
      "Epoch 36/200\n",
      "164/164 [==============================] - 0s 2ms/step - loss: 14.0715 - mean_absolute_error: 3.5999 - val_loss: 13.9494 - val_mean_absolute_error: 3.5843\n",
      "Epoch 37/200\n",
      "164/164 [==============================] - 0s 3ms/step - loss: 14.0715 - mean_absolute_error: 3.5999 - val_loss: 13.9494 - val_mean_absolute_error: 3.5843\n",
      "Epoch 38/200\n",
      "164/164 [==============================] - 0s 2ms/step - loss: 14.0715 - mean_absolute_error: 3.5999 - val_loss: 13.9494 - val_mean_absolute_error: 3.5843\n",
      "Epoch 39/200\n",
      "164/164 [==============================] - 0s 2ms/step - loss: 14.0715 - mean_absolute_error: 3.5999 - val_loss: 13.9494 - val_mean_absolute_error: 3.5843\n",
      "Epoch 40/200\n",
      "164/164 [==============================] - 0s 2ms/step - loss: 14.0715 - mean_absolute_error: 3.5999 - val_loss: 13.9494 - val_mean_absolute_error: 3.5843\n",
      "Epoch 41/200\n",
      "164/164 [==============================] - 0s 2ms/step - loss: 14.0715 - mean_absolute_error: 3.5999 - val_loss: 13.9494 - val_mean_absolute_error: 3.5843\n",
      "Epoch 42/200\n",
      "164/164 [==============================] - 0s 3ms/step - loss: 14.0715 - mean_absolute_error: 3.5999 - val_loss: 13.9494 - val_mean_absolute_error: 3.5843\n",
      "Epoch 43/200\n",
      "164/164 [==============================] - 0s 2ms/step - loss: 14.0715 - mean_absolute_error: 3.5999 - val_loss: 13.9494 - val_mean_absolute_error: 3.5843\n",
      "Epoch 44/200\n",
      "164/164 [==============================] - 0s 2ms/step - loss: 14.0715 - mean_absolute_error: 3.5999 - val_loss: 13.9494 - val_mean_absolute_error: 3.5843\n",
      "Epoch 45/200\n",
      "164/164 [==============================] - 0s 2ms/step - loss: 14.0715 - mean_absolute_error: 3.5999 - val_loss: 13.9494 - val_mean_absolute_error: 3.5843\n",
      "Epoch 46/200\n",
      "164/164 [==============================] - 0s 2ms/step - loss: 14.0715 - mean_absolute_error: 3.5999 - val_loss: 13.9494 - val_mean_absolute_error: 3.5843\n",
      "Epoch 47/200\n",
      "164/164 [==============================] - 0s 2ms/step - loss: 14.0715 - mean_absolute_error: 3.5999 - val_loss: 13.9494 - val_mean_absolute_error: 3.5843\n",
      "Epoch 48/200\n",
      "164/164 [==============================] - 0s 2ms/step - loss: 14.0715 - mean_absolute_error: 3.5999 - val_loss: 13.9494 - val_mean_absolute_error: 3.5843\n",
      "Epoch 49/200\n",
      "164/164 [==============================] - 0s 2ms/step - loss: 14.0715 - mean_absolute_error: 3.5999 - val_loss: 13.9494 - val_mean_absolute_error: 3.5843\n",
      "Epoch 50/200\n",
      "164/164 [==============================] - 0s 2ms/step - loss: 14.0715 - mean_absolute_error: 3.5999 - val_loss: 13.9494 - val_mean_absolute_error: 3.5843\n",
      "Epoch 51/200\n",
      "164/164 [==============================] - 0s 2ms/step - loss: 14.0715 - mean_absolute_error: 3.5999 - val_loss: 13.9494 - val_mean_absolute_error: 3.5843\n",
      "Epoch 52/200\n",
      "164/164 [==============================] - 0s 2ms/step - loss: 14.0715 - mean_absolute_error: 3.5999 - val_loss: 13.9494 - val_mean_absolute_error: 3.5843\n",
      "Epoch 53/200\n",
      "164/164 [==============================] - 0s 2ms/step - loss: 14.0715 - mean_absolute_error: 3.5999 - val_loss: 13.9494 - val_mean_absolute_error: 3.5843\n",
      "Epoch 54/200\n",
      "164/164 [==============================] - 0s 3ms/step - loss: 14.0715 - mean_absolute_error: 3.5999 - val_loss: 13.9494 - val_mean_absolute_error: 3.5843\n",
      "Epoch 55/200\n",
      "164/164 [==============================] - 0s 2ms/step - loss: 14.0715 - mean_absolute_error: 3.5999 - val_loss: 13.9494 - val_mean_absolute_error: 3.5843\n",
      "Epoch 56/200\n",
      "164/164 [==============================] - 0s 2ms/step - loss: 14.0715 - mean_absolute_error: 3.5999 - val_loss: 13.9494 - val_mean_absolute_error: 3.5843\n",
      "Epoch 57/200\n",
      "164/164 [==============================] - 0s 2ms/step - loss: 14.0715 - mean_absolute_error: 3.5999 - val_loss: 13.9494 - val_mean_absolute_error: 3.5843\n",
      "Epoch 58/200\n",
      "164/164 [==============================] - 0s 2ms/step - loss: 14.0715 - mean_absolute_error: 3.5999 - val_loss: 13.9494 - val_mean_absolute_error: 3.5843\n",
      "Epoch 59/200\n",
      "164/164 [==============================] - 0s 2ms/step - loss: 14.0715 - mean_absolute_error: 3.5999 - val_loss: 13.9494 - val_mean_absolute_error: 3.5843\n",
      "Epoch 60/200\n",
      "164/164 [==============================] - 0s 2ms/step - loss: 14.0715 - mean_absolute_error: 3.5999 - val_loss: 13.9494 - val_mean_absolute_error: 3.5843\n",
      "Epoch 61/200\n",
      "164/164 [==============================] - 0s 2ms/step - loss: 14.0715 - mean_absolute_error: 3.5999 - val_loss: 13.9494 - val_mean_absolute_error: 3.5843\n",
      "Epoch 62/200\n",
      "164/164 [==============================] - 0s 2ms/step - loss: 14.0715 - mean_absolute_error: 3.5999 - val_loss: 13.9494 - val_mean_absolute_error: 3.5843\n",
      "Epoch 63/200\n",
      "164/164 [==============================] - 0s 2ms/step - loss: 14.0715 - mean_absolute_error: 3.5999 - val_loss: 13.9494 - val_mean_absolute_error: 3.5843\n",
      "Epoch 64/200\n",
      "164/164 [==============================] - 0s 2ms/step - loss: 14.0715 - mean_absolute_error: 3.5999 - val_loss: 13.9494 - val_mean_absolute_error: 3.5843\n",
      "Epoch 65/200\n",
      "164/164 [==============================] - 0s 2ms/step - loss: 14.0715 - mean_absolute_error: 3.5999 - val_loss: 13.9494 - val_mean_absolute_error: 3.5843\n",
      "Epoch 66/200\n",
      "164/164 [==============================] - 0s 2ms/step - loss: 14.0714 - mean_absolute_error: 3.5999 - val_loss: 13.9494 - val_mean_absolute_error: 3.5843\n",
      "Epoch 67/200\n",
      "164/164 [==============================] - 0s 2ms/step - loss: 14.0715 - mean_absolute_error: 3.5999 - val_loss: 13.9494 - val_mean_absolute_error: 3.5843\n",
      "Epoch 68/200\n",
      "164/164 [==============================] - 0s 2ms/step - loss: 14.0715 - mean_absolute_error: 3.5999 - val_loss: 13.9494 - val_mean_absolute_error: 3.5843\n",
      "Epoch 69/200\n",
      "164/164 [==============================] - 0s 2ms/step - loss: 14.0715 - mean_absolute_error: 3.5999 - val_loss: 13.9494 - val_mean_absolute_error: 3.5843\n",
      "Epoch 70/200\n",
      "164/164 [==============================] - 0s 2ms/step - loss: 14.0714 - mean_absolute_error: 3.5999 - val_loss: 13.9494 - val_mean_absolute_error: 3.5843\n",
      "Epoch 71/200\n",
      "164/164 [==============================] - 0s 2ms/step - loss: 14.0715 - mean_absolute_error: 3.5999 - val_loss: 13.9494 - val_mean_absolute_error: 3.5843\n",
      "Epoch 72/200\n",
      "164/164 [==============================] - 0s 2ms/step - loss: 14.0715 - mean_absolute_error: 3.5999 - val_loss: 13.9494 - val_mean_absolute_error: 3.5843\n",
      "Epoch 73/200\n",
      "164/164 [==============================] - 0s 2ms/step - loss: 14.0715 - mean_absolute_error: 3.5999 - val_loss: 13.9494 - val_mean_absolute_error: 3.5843\n",
      "Epoch 74/200\n",
      "164/164 [==============================] - 0s 3ms/step - loss: 14.0715 - mean_absolute_error: 3.5999 - val_loss: 13.9494 - val_mean_absolute_error: 3.5843\n",
      "Epoch 75/200\n",
      "164/164 [==============================] - 0s 2ms/step - loss: 14.0715 - mean_absolute_error: 3.5999 - val_loss: 13.9494 - val_mean_absolute_error: 3.5843\n",
      "Epoch 76/200\n",
      "164/164 [==============================] - 0s 2ms/step - loss: 14.0714 - mean_absolute_error: 3.5999 - val_loss: 13.9494 - val_mean_absolute_error: 3.5843\n",
      "Epoch 77/200\n",
      "164/164 [==============================] - 0s 2ms/step - loss: 14.0714 - mean_absolute_error: 3.5999 - val_loss: 13.9494 - val_mean_absolute_error: 3.5843\n",
      "Epoch 78/200\n",
      "164/164 [==============================] - 0s 2ms/step - loss: 14.0714 - mean_absolute_error: 3.5999 - val_loss: 13.9494 - val_mean_absolute_error: 3.5843\n",
      "Epoch 79/200\n",
      "164/164 [==============================] - 0s 2ms/step - loss: 14.0714 - mean_absolute_error: 3.5999 - val_loss: 13.9494 - val_mean_absolute_error: 3.5843\n",
      "Epoch 80/200\n",
      "164/164 [==============================] - 0s 2ms/step - loss: 14.0714 - mean_absolute_error: 3.5999 - val_loss: 13.9494 - val_mean_absolute_error: 3.5843\n",
      "Epoch 81/200\n",
      "164/164 [==============================] - 0s 2ms/step - loss: 14.0714 - mean_absolute_error: 3.5999 - val_loss: 13.9494 - val_mean_absolute_error: 3.5843\n",
      "Epoch 82/200\n",
      "164/164 [==============================] - 0s 2ms/step - loss: 14.0714 - mean_absolute_error: 3.5999 - val_loss: 13.9494 - val_mean_absolute_error: 3.5843\n",
      "Epoch 83/200\n",
      "164/164 [==============================] - 0s 2ms/step - loss: 14.0714 - mean_absolute_error: 3.5999 - val_loss: 13.9494 - val_mean_absolute_error: 3.5843\n",
      "Epoch 84/200\n",
      "164/164 [==============================] - 0s 2ms/step - loss: 14.0714 - mean_absolute_error: 3.5999 - val_loss: 13.9494 - val_mean_absolute_error: 3.5843\n",
      "Epoch 85/200\n",
      "164/164 [==============================] - 0s 2ms/step - loss: 14.0714 - mean_absolute_error: 3.5999 - val_loss: 13.9494 - val_mean_absolute_error: 3.5843\n",
      "Epoch 86/200\n",
      "164/164 [==============================] - 0s 2ms/step - loss: 14.0714 - mean_absolute_error: 3.5999 - val_loss: 13.9494 - val_mean_absolute_error: 3.5843\n",
      "Epoch 87/200\n",
      "164/164 [==============================] - 0s 2ms/step - loss: 14.0714 - mean_absolute_error: 3.5999 - val_loss: 13.9494 - val_mean_absolute_error: 3.5843\n",
      "Epoch 88/200\n",
      "164/164 [==============================] - 0s 2ms/step - loss: 14.0714 - mean_absolute_error: 3.5999 - val_loss: 13.9494 - val_mean_absolute_error: 3.5843\n"
     ]
    },
    {
     "data": {
      "text/plain": "<keras.callbacks.History at 0x7ff01addcf10>"
     },
     "execution_count": 50,
     "metadata": {},
     "output_type": "execute_result"
    }
   ],
   "source": [
    "model.fit(train_dataset, validation_data=val_dataset, epochs=200, callbacks=[early_stop, checkpoint])"
   ],
   "metadata": {
    "collapsed": false,
    "ExecuteTime": {
     "end_time": "2023-07-28T08:48:48.267963542Z",
     "start_time": "2023-07-28T08:48:11.049450491Z"
    }
   }
  },
  {
   "cell_type": "code",
   "execution_count": 187,
   "outputs": [],
   "source": [
    "model.load_weights(\"best_model_checkpoint.h5\")"
   ],
   "metadata": {
    "collapsed": false,
    "ExecuteTime": {
     "end_time": "2023-07-25T00:08:45.649594464Z",
     "start_time": "2023-07-25T00:08:45.645353395Z"
    }
   }
  },
  {
   "cell_type": "code",
   "execution_count": 188,
   "outputs": [
    {
     "data": {
      "text/plain": "   userId  movieId  rating   timestamp\n0       1      296     5.0  1147880044\n1       1      306     3.5  1147868817\n2       1      307     5.0  1147868828\n3       1      665     5.0  1147878820\n4       1      899     3.5  1147868510",
      "text/html": "<div>\n<style scoped>\n    .dataframe tbody tr th:only-of-type {\n        vertical-align: middle;\n    }\n\n    .dataframe tbody tr th {\n        vertical-align: top;\n    }\n\n    .dataframe thead th {\n        text-align: right;\n    }\n</style>\n<table border=\"1\" class=\"dataframe\">\n  <thead>\n    <tr style=\"text-align: right;\">\n      <th></th>\n      <th>userId</th>\n      <th>movieId</th>\n      <th>rating</th>\n      <th>timestamp</th>\n    </tr>\n  </thead>\n  <tbody>\n    <tr>\n      <th>0</th>\n      <td>1</td>\n      <td>296</td>\n      <td>5.0</td>\n      <td>1147880044</td>\n    </tr>\n    <tr>\n      <th>1</th>\n      <td>1</td>\n      <td>306</td>\n      <td>3.5</td>\n      <td>1147868817</td>\n    </tr>\n    <tr>\n      <th>2</th>\n      <td>1</td>\n      <td>307</td>\n      <td>5.0</td>\n      <td>1147868828</td>\n    </tr>\n    <tr>\n      <th>3</th>\n      <td>1</td>\n      <td>665</td>\n      <td>5.0</td>\n      <td>1147878820</td>\n    </tr>\n    <tr>\n      <th>4</th>\n      <td>1</td>\n      <td>899</td>\n      <td>3.5</td>\n      <td>1147868510</td>\n    </tr>\n  </tbody>\n</table>\n</div>"
     },
     "execution_count": 188,
     "metadata": {},
     "output_type": "execute_result"
    }
   ],
   "source": [
    "rating_from_sampled_movies_df.head()"
   ],
   "metadata": {
    "collapsed": false,
    "ExecuteTime": {
     "end_time": "2023-07-25T00:08:45.649780897Z",
     "start_time": "2023-07-25T00:08:45.645463858Z"
    }
   }
  },
  {
   "cell_type": "code",
   "execution_count": 197,
   "outputs": [],
   "source": [
    "user_id = 1\n",
    "movie_id= 899\n",
    "\n",
    "user_features_eval = np.expand_dims(user_features[user_dict[user_id]], axis=0)\n",
    "movie_features_eval = np.expand_dims(movies_features[movie_dict[movie_id]], axis=0)"
   ],
   "metadata": {
    "collapsed": false,
    "ExecuteTime": {
     "end_time": "2023-07-25T00:09:42.286675336Z",
     "start_time": "2023-07-25T00:09:42.283126009Z"
    }
   }
  },
  {
   "cell_type": "code",
   "execution_count": 198,
   "outputs": [
    {
     "data": {
      "text/plain": "(1, 20)"
     },
     "execution_count": 198,
     "metadata": {},
     "output_type": "execute_result"
    }
   ],
   "source": [
    "user_features_eval.shape"
   ],
   "metadata": {
    "collapsed": false,
    "ExecuteTime": {
     "end_time": "2023-07-25T00:09:42.435031454Z",
     "start_time": "2023-07-25T00:09:42.431137786Z"
    }
   }
  },
  {
   "cell_type": "code",
   "execution_count": 199,
   "outputs": [],
   "source": [
    "user_features_eval -= min\n",
    "user_features_eval /= (max-min)"
   ],
   "metadata": {
    "collapsed": false,
    "ExecuteTime": {
     "end_time": "2023-07-25T00:09:42.582477343Z",
     "start_time": "2023-07-25T00:09:42.578697733Z"
    }
   }
  },
  {
   "cell_type": "code",
   "execution_count": 200,
   "outputs": [
    {
     "name": "stdout",
     "output_type": "stream",
     "text": [
      "1/1 [==============================] - 0s 14ms/step\n"
     ]
    },
    {
     "data": {
      "text/plain": "array([[4.8445654]], dtype=float32)"
     },
     "execution_count": 200,
     "metadata": {},
     "output_type": "execute_result"
    }
   ],
   "source": [
    "model.predict([{\"user_input\": user_features_eval, \"movie_input\": movie_features_eval}])"
   ],
   "metadata": {
    "collapsed": false,
    "ExecuteTime": {
     "end_time": "2023-07-25T00:09:42.792925515Z",
     "start_time": "2023-07-25T00:09:42.750281587Z"
    }
   }
  },
  {
   "cell_type": "code",
   "execution_count": null,
   "outputs": [],
   "source": [],
   "metadata": {
    "collapsed": false
   }
  }
 ],
 "metadata": {
  "kernelspec": {
   "display_name": "Python 3",
   "language": "python",
   "name": "python3"
  },
  "language_info": {
   "codemirror_mode": {
    "name": "ipython",
    "version": 2
   },
   "file_extension": ".py",
   "mimetype": "text/x-python",
   "name": "python",
   "nbconvert_exporter": "python",
   "pygments_lexer": "ipython2",
   "version": "2.7.6"
  }
 },
 "nbformat": 4,
 "nbformat_minor": 0
}
